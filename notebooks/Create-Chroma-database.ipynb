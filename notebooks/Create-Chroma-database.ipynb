{
  "cells": [
    {
      "cell_type": "code",
      "source": [
        "# Instalamos los paquetes necesarios\n",
        "%pip install pysqlite3\n",
        "%pip install chromadb"
      ],
      "outputs": [],
      "execution_count": null,
      "metadata": {
        "jupyter": {
          "source_hidden": false,
          "outputs_hidden": true
        },
        "nteract": {
          "transient": {
            "deleting": false
          }
        }
      },
      "id": "3e16d27b-698b-47eb-a3e7-980d91f5be12"
    },
    {
      "cell_type": "code",
      "source": [
        "__import__('pysqlite3')\n",
        "import sys\n",
        "sys.modules['sqlite3'] = sys.modules.pop('pysqlite3')\n",
        "\n",
        "import os\n",
        "import chromadb\n",
        "import pandas as pd\n",
        "pd.set_option('max_colwidth', 1000)\n",
        "from chromadb.utils.embedding_functions import OpenAIEmbeddingFunction"
      ],
      "outputs": [],
      "execution_count": 1,
      "metadata": {},
      "id": "6e57162c-78f2-4c7d-af65-d2296b93bf79"
    },
    {
      "cell_type": "code",
      "source": [
        "# Seteamos variables\n",
        "chroma_db_path = \"./Chroma_db\"\n",
        "EMBEDDING_MODEL = \"text-embedding-3-small\"\n",
        "collection_name = \"Montes_del_Plata\"\n",
        "OPENAI_API_KEY = 'sk-cp8mSP3Ezz2x2I4nXBy_QgLvJ9C3mzHeSSCxOHNtOST3BlbkFJ0EfSp4jyE5BoE6Y4MZxRBOmTPTrE4jSWDHtRsS1o4A'"
      ],
      "outputs": [],
      "execution_count": 2,
      "metadata": {},
      "id": "8d7412de-766e-4271-949d-7ff5bdbeef00"
    },
    {
      "cell_type": "code",
      "source": [
        "# Creamos una base de datos vectorial local con Chroma\n",
        "client_chroma = chromadb.PersistentClient(path=chroma_db_path)\n",
        "embedding_function = OpenAIEmbeddingFunction(api_key=OPENAI_API_KEY, model_name=EMBEDDING_MODEL)\n",
        "collection = client_chroma.create_collection(name=collection_name, \n",
        "                                             metadata={\"hnsw:space\": \"cosine\"}, \n",
        "                                             embedding_function=embedding_function)"
      ],
      "outputs": [],
      "execution_count": 3,
      "metadata": {},
      "id": "2bd32b8b-8b1a-464b-8e7a-21a0ad3dd01a"
    },
    {
      "cell_type": "code",
      "source": [
        "# Leemos los documentos a guardar en la base de datos vectorial\n",
        "directory = './Documents'\n",
        "docs_name = ['document_0', 'document_1', 'document_2', 'document_3', 'document_4', 'document_5', 'document_6', 'document_7', 'document_8',\n",
        " 'document_9', 'document_10', 'document_11', 'document_12', 'document_13', 'document_14', 'document_15_1', 'document_15_2', 'document_15_3', \n",
        " 'document_15_4', 'document_15_5', 'document_15_6', 'document_15_7', 'document_15_8', 'document_16_1', 'document_16_2', 'document_17_1', \n",
        " 'document_17_2', 'document_17_3', 'document_17_4', 'document_18_1', 'document_18_2', 'document_18_3', 'document_19'] \n",
        "documents = {}\n",
        "\n",
        "for doc in docs_name:\n",
        "    file_path = os.path.join(directory, doc+\".txt\")\n",
        "    with open(file_path, 'r') as file:\n",
        "        documents[doc] = file.read()"
      ],
      "outputs": [],
      "execution_count": 4,
      "metadata": {},
      "id": "49c7c77a-c44a-4e93-9953-f2f0694ddf63"
    },
    {
      "cell_type": "code",
      "source": [
        "# Creamos metadata para guardar con los documentos\n",
        "# la estructura de los datos es una lista de diccionarios\n",
        "metadata = []\n",
        "\n",
        "departamento = ['Forestal']*12 + ['Planta']*(len(documents.keys())-12)\n",
        "nombre_doc = ['P_LOGT_01: TRANSPORTE DE MADERA']*12 + ['Instrucciones de operación de procesos: Blanqueo']*(len(documents.keys())-12)\n",
        "capitulo = ['0', '1', '2', '3', '4', '5', '6', '7', '8', '9', '10', '11', '0', '1', '2', '3', '3', '3', '3', '3', '3', '3', '3', '4', '4', '5', '5', '5', '5', '6', '6', '6', '7']\n",
        "\n",
        "# las 3 listas anteriores deberian tener el mismo largo\n",
        "for i in range(len(departamento)):\n",
        "    metadata.append(\n",
        "        {'departamento' : departamento[i],\n",
        "         'nombre_documento' : nombre_doc[i],\n",
        "         'capitulo' : capitulo[i]}\n",
        "    )"
      ],
      "outputs": [],
      "execution_count": 5,
      "metadata": {},
      "id": "8f1a93bd-eea7-4999-afc2-239202d53af4"
    },
    {
      "cell_type": "code",
      "source": [
        "# Almacenamos los datos en la colección\n",
        "# Dejamos que los embeddings de cada documento los genere Chroma \n",
        "# haciendo una llamada al modelo de embedding de OpenAI que elegimos al comienzo\n",
        "\n",
        "collection.add(\n",
        "    ids=[str(num) for num in range(len(documents.keys()))],\n",
        "    documents=list(documents.values()),\n",
        "    metadatas=metadata\n",
        ")"
      ],
      "outputs": [],
      "execution_count": 6,
      "metadata": {},
      "id": "907be7a2-f473-4737-bbd4-a7b9f0070b8c"
    },
    {
      "cell_type": "code",
      "source": [
        "client_chroma.list_collections()"
      ],
      "outputs": [
        {
          "output_type": "execute_result",
          "execution_count": 10,
          "data": {
            "text/plain": "[Collection(id=809de891-0087-4da8-8313-738b1ba24ff7, name=TRANSPORTE_DE_MADERA),\n Collection(id=b0407bae-45f3-4f24-aa16-f56f8a8c649e, name=Montes_del_Plata)]"
          },
          "metadata": {}
        }
      ],
      "execution_count": 10,
      "metadata": {},
      "id": "d978a24b-78c0-4e4f-b235-a4caeacbb7a7"
    }
  ],
  "metadata": {
    "kernelspec": {
      "name": "synapse_pyspark",
      "language": "Python",
      "display_name": "Synapse PySpark"
    },
    "language_info": {
      "name": "python",
      "version": "3.8.0",
      "mimetype": "text/x-python",
      "file_extension": ".py",
      "pygments_lexer": "ipython",
      "codemirror_mode": "ipython",
      "nbconvert_exporter": "python"
    },
    "microsoft": {
      "ms_spell_check": {
        "ms_spell_check_language": "en"
      }
    },
    "kernel_info": {
      "name": "synapse_pyspark"
    },
    "nteract": {
      "version": "nteract-front-end@1.0.0"
    }
  },
  "nbformat": 4,
  "nbformat_minor": 5
}