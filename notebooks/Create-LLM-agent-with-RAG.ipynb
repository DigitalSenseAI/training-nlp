{
 "cells": [
  {
   "cell_type": "markdown",
   "metadata": {
    "nteract": {
     "transient": {
      "deleting": false
     }
    }
   },
   "source": [
    "# Implementación de Agente Conversacional\n",
    "\n",
    "En este notebook implementaremos un agente conversacional utilizando servicios de OpenAI.\n",
    "\n",
    "Este notebook nos guiará por el camino hacia una implementación realmente utilizable en la práctica, pasando por diferentes puntos intermedios de complejidad, y por supuesto de desempeño. Empezaremos con un chat básico, y le iremos agregando características que mejoran las respuestas, aprendiendo a tomar más control sobre las respuestas que el Agente brinda.\n",
    "\n",
    "A lo largo del notebook, hay algunas tareas de programación para ser implementadas. Haremos pausas en la clase para dar tiempo a pensarlas e implementarlas, para luego revisar la solución entre todos. Los campos, junto con una descripción del ejercicio a realizar, están marcados con el siguiente texto:\n",
    "\n",
    "```\n",
    "# ================================================================\n",
    "# Complete aquí su solución\n",
    "# ----------------------------------------------------------------\n",
    "\n",
    "\n",
    "\n",
    "\n",
    "# ================================================================\n",
    "```\n",
    "\n",
    "A continuación se presentan las grandes etapas a implementar.\n",
    "\n",
    "### 1. Agente \"Vanila\"\n",
    "Empezaremos creando un agente básico, cuyo único propósito sea llamar a la API de OpenAI, y de ese modo contestar las preguntas y mantener una conversación con el usuario, utilizando únicamente el conocimiento que el modelo de lenguaje ya adquirió durante el pre-entrenamiento\n",
    "\n",
    "### 2. Agregado de documentos en prompt\n",
    "Luego veremos la técnica más sencilla para tratar de controlar, al menos un poco, las respuestas del Agente, adentrándonos en el terreno del llamado `prompt engineering`. En este caso pasaremos junto con el prompt, una cierta cantidad de documentos que contengan la información relevante, para que el modelo pueda extraer la respuesta de allí.\n",
    "\n",
    "### 3. RAG: inclusión de fuentes de información a través de base vectorial\n",
    "La técnica RAG (Retrieval-Augmented Generation) es una técnica de procesamiento de lenguaje natural que combina modelos de recuperación de información y modelos generativos para mejorar la calidad de las respuestas generadas. En lugar de depender únicamente del conocimiento almacenado en el modelo generativo, RAG incorpora un mecanismo de recuperación que busca información relevante en una base de datos externa o corpus de documentos antes de generar una respuesta.\n",
    "\n",
    "Para este caso construiremos una base vectorial con unos pocos documentos provistos por Montes del Plata, a modo de ejemplo. Se codificarán en una base de la librería Chroma. Cada vez que llega una pregunta del usuario, el Agente realizará una búsqueda entre dichos documentos para encontrar cuál es el/los documentos que más probablemente contengan la respuesta. Una vez identificados, se extrae el texto de los documentos y se envía junto con la pregunta al modelo de lenguaje natural, de modo que éste extraiga la información de ellos.\n",
    "\n",
    "### 4. Control de flujo\n",
    "En esta sección implementaremos una versión sencilla del control de flujo. Para ejemplificarlo, utilizaremos un modelo que implementa reglas de moderación en los mensajes. De este modo, primero se chequea si el mensaje pasa las reglas de moderación. Si no pasa se da por terminado el chat inmediatamente. De lo contrario, se procede al flujo normal de la conversación. \n",
    "\n",
    "Si bien el ejemplo es sencillo, es fácilmente extensible a flujos más complejos"
   ]
  },
  {
   "cell_type": "markdown",
   "metadata": {
    "nteract": {
     "transient": {
      "deleting": false
     }
    }
   },
   "source": [
    "### Instalación de librerías\n",
    "Primero que nada instalamos los paquetes necesarios"
   ]
  },
  {
   "cell_type": "code",
   "execution_count": 4,
   "metadata": {
    "collapsed": true,
    "gather": {
     "logged": 1726453515966
    },
    "jupyter": {
     "outputs_hidden": true
    }
   },
   "outputs": [
    {
     "data": {
      "application/vnd.livy.statement-meta+json": {
       "execution_finish_time": "2024-09-16T02:25:15.2203149Z",
       "execution_start_time": "2024-09-16T02:23:58.202169Z",
       "livy_statement_state": "available",
       "normalized_state": "finished",
       "parent_msg_id": "e705933f-8671-4a41-aad4-2087208556b4",
       "queued_time": "2024-09-16T02:23:58.0362139Z",
       "session_id": "178",
       "session_start_time": null,
       "spark_jobs": {
        "jobs": [],
        "limit": 20,
        "numbers": {
         "FAILED": 0,
         "RUNNING": 0,
         "SUCCEEDED": 0,
         "UNKNOWN": 0
        },
        "rule": "ALL_DESC"
       },
       "spark_pool": "spAzureML",
       "state": "finished",
       "statement_id": 16,
       "statement_ids": [
        9,
        10,
        11,
        12,
        13,
        14,
        15,
        16
       ]
      },
      "text/plain": [
       "StatementMeta(spAzureML, 178, 16, Finished, Available, Finished)"
      ]
     },
     "metadata": {},
     "output_type": "display_data"
    },
    {
     "data": {},
     "execution_count": 4,
     "metadata": {},
     "output_type": "execute_result"
    },
    {
     "name": "stdout",
     "output_type": "stream",
     "text": [
      "Collecting pysqlite3\n",
      "  Downloading pysqlite3-0.5.3.tar.gz (40 kB)\n",
      "\u001b[2K     \u001b[90m━━━━━━━━━━━━━━━━━━━━━━━━━━━━━━━━━━━━━━━━\u001b[0m \u001b[32m40.8/40.8 KB\u001b[0m \u001b[31m10.1 MB/s\u001b[0m eta \u001b[36m0:00:00\u001b[0m\n",
      "\u001b[?25h  Preparing metadata (setup.py) ... \u001b[?25l-\b \bdone\n",
      "\u001b[?25hBuilding wheels for collected packages: pysqlite3\n",
      "  Building wheel for pysqlite3 (setup.py) ... \u001b[?25l-\b \b\\\b \b|\b \b/\b \b-\b \b\\\b \b|\b \b/\b \b-\b \b\\\b \b|\b \b/\b \bdone\n",
      "\u001b[?25h  Created wheel for pysqlite3: filename=pysqlite3-0.5.3-cp310-cp310-linux_x86_64.whl size=47515 sha256=f378aac1972b0100fce31c5bbf01d731e418834574f2af5669ddb238fd647667\n",
      "  Stored in directory: /home/trusted-service-user/.cache/pip/wheels/6d/5b/04/3e6115d6b90cd4d63a55c4d13685fe8117bb87d5997a215e71\n",
      "Successfully built pysqlite3\n",
      "Installing collected packages: pysqlite3\n",
      "Successfully installed pysqlite3-0.5.3\n",
      "\u001b[33mWARNING: You are using pip version 22.0.4; however, version 24.2 is available.\n",
      "You should consider upgrading via the '/nfs4/pyenv-5890e340-53bd-4fe2-a8e6-a223006114e0/bin/python -m pip install --upgrade pip' command.\u001b[0m\u001b[33m\n",
      "\u001b[0mNote: you may need to restart the kernel to use updated packages.\n",
      "Collecting chromadb\n",
      "  Downloading chromadb-0.5.5-py3-none-any.whl (584 kB)\n",
      "\u001b[2K     \u001b[90m━━━━━━━━━━━━━━━━━━━━━━━━━━━━━━━━━━━━━━\u001b[0m \u001b[32m584.3/584.3 KB\u001b[0m \u001b[31m16.0 MB/s\u001b[0m eta \u001b[36m0:00:00\u001b[0m00:01\u001b[0m\n",
      "\u001b[?25hCollecting mmh3>=4.0.1\n",
      "  Downloading mmh3-4.1.0-cp310-cp310-manylinux_2_5_x86_64.manylinux1_x86_64.manylinux_2_17_x86_64.manylinux2014_x86_64.whl (67 kB)\n",
      "\u001b[2K     \u001b[90m━━━━━━━━━━━━━━━━━━━━━━━━━━━━━━━━━━━━━━━━\u001b[0m \u001b[32m67.6/67.6 KB\u001b[0m \u001b[31m16.5 MB/s\u001b[0m eta \u001b[36m0:00:00\u001b[0m\n",
      "\u001b[?25hCollecting fastapi>=0.95.2\n",
      "  Downloading fastapi-0.114.2-py3-none-any.whl (94 kB)\n",
      "\u001b[2K     \u001b[90m━━━━━━━━━━━━━━━━━━━━━━━━━━━━━━━━━━━━━━━━\u001b[0m \u001b[32m94.0/94.0 KB\u001b[0m \u001b[31m22.3 MB/s\u001b[0m eta \u001b[36m0:00:00\u001b[0m\n",
      "\u001b[?25hRequirement already satisfied: bcrypt>=4.0.1 in /home/trusted-service-user/cluster-env/env/lib/python3.10/site-packages (from chromadb) (4.0.1)\n",
      "Collecting uvicorn[standard]>=0.18.3\n",
      "  Downloading uvicorn-0.30.6-py3-none-any.whl (62 kB)\n",
      "\u001b[2K     \u001b[90m━━━━━━━━━━━━━━━━━━━━━━━━━━━━━━━━━━━━━━━━\u001b[0m \u001b[32m62.8/62.8 KB\u001b[0m \u001b[31m19.0 MB/s\u001b[0m eta \u001b[36m0:00:00\u001b[0m\n",
      "\u001b[?25hCollecting opentelemetry-instrumentation-fastapi>=0.41b0\n",
      "  Downloading opentelemetry_instrumentation_fastapi-0.48b0-py3-none-any.whl (11 kB)\n",
      "Collecting onnxruntime>=1.14.1\n",
      "  Downloading onnxruntime-1.19.2-cp310-cp310-manylinux_2_27_x86_64.manylinux_2_28_x86_64.whl (13.2 MB)\n",
      "\u001b[2K     \u001b[90m━━━━━━━━━━━━━━━━━━━━━━━━━━━━━━━━━━━━━━━━\u001b[0m \u001b[32m13.2/13.2 MB\u001b[0m \u001b[31m57.6 MB/s\u001b[0m eta \u001b[36m0:00:00\u001b[0m00:01\u001b[0m00:01\u001b[0m\n",
      "\u001b[?25hCollecting tokenizers>=0.13.2\n",
      "  Downloading tokenizers-0.20.0-cp310-cp310-manylinux_2_17_x86_64.manylinux2014_x86_64.whl (2.9 MB)\n",
      "\u001b[2K     \u001b[90m━━━━━━━━━━━━━━━━━━━━━━━━━━━━━━━━━━━━━━━━\u001b[0m \u001b[32m2.9/2.9 MB\u001b[0m \u001b[31m79.0 MB/s\u001b[0m eta \u001b[36m0:00:00\u001b[0m:00:01\u001b[0m\n",
      "\u001b[?25hCollecting opentelemetry-exporter-otlp-proto-grpc>=1.2.0\n",
      "  Downloading opentelemetry_exporter_otlp_proto_grpc-1.27.0-py3-none-any.whl (18 kB)\n",
      "Collecting tenacity>=8.2.3\n",
      "  Downloading tenacity-9.0.0-py3-none-any.whl (28 kB)\n",
      "Collecting opentelemetry-sdk>=1.2.0\n",
      "  Downloading opentelemetry_sdk-1.27.0-py3-none-any.whl (110 kB)\n",
      "\u001b[2K     \u001b[90m━━━━━━━━━━━━━━━━━━━━━━━━━━━━━━━━━━━━━━\u001b[0m \u001b[32m110.5/110.5 KB\u001b[0m \u001b[31m34.9 MB/s\u001b[0m eta \u001b[36m0:00:00\u001b[0m\n",
      "\u001b[?25hCollecting typing-extensions>=4.5.0\n",
      "  Downloading typing_extensions-4.12.2-py3-none-any.whl (37 kB)\n",
      "Collecting build>=1.0.3\n",
      "  Downloading build-1.2.2-py3-none-any.whl (22 kB)\n",
      "Collecting opentelemetry-api>=1.2.0\n",
      "  Downloading opentelemetry_api-1.27.0-py3-none-any.whl (63 kB)\n",
      "\u001b[2K     \u001b[90m━━━━━━━━━━━━━━━━━━━━━━━━━━━━━━━━━━━━━━━━\u001b[0m \u001b[32m64.0/64.0 KB\u001b[0m \u001b[31m18.9 MB/s\u001b[0m eta \u001b[36m0:00:00\u001b[0m\n",
      "\u001b[?25hCollecting orjson>=3.9.12\n",
      "  Downloading orjson-3.10.7-cp310-cp310-manylinux_2_17_x86_64.manylinux2014_x86_64.whl (141 kB)\n",
      "\u001b[2K     \u001b[90m━━━━━━━━━━━━━━━━━━━━━━━━━━━━━━━━━━━━━━\u001b[0m \u001b[32m141.9/141.9 KB\u001b[0m \u001b[31m27.7 MB/s\u001b[0m eta \u001b[36m0:00:00\u001b[0m\n",
      "\u001b[?25hRequirement already satisfied: PyYAML>=6.0.0 in /home/trusted-service-user/cluster-env/env/lib/python3.10/site-packages (from chromadb) (6.0)\n",
      "Collecting typer>=0.9.0\n",
      "  Downloading typer-0.12.5-py3-none-any.whl (47 kB)\n",
      "\u001b[2K     \u001b[90m━━━━━━━━━━━━━━━━━━━━━━━━━━━━━━━━━━━━━━━━\u001b[0m \u001b[32m47.3/47.3 KB\u001b[0m \u001b[31m10.7 MB/s\u001b[0m eta \u001b[36m0:00:00\u001b[0m\n",
      "\u001b[?25hCollecting importlib-resources\n",
      "  Downloading importlib_resources-6.4.5-py3-none-any.whl (36 kB)\n",
      "Collecting tqdm>=4.65.0\n",
      "  Downloading tqdm-4.66.5-py3-none-any.whl (78 kB)\n",
      "\u001b[2K     \u001b[90m━━━━━━━━━━━━━━━━━━━━━━━━━━━━━━━━━━━━━━━━\u001b[0m \u001b[32m78.4/78.4 KB\u001b[0m \u001b[31m25.7 MB/s\u001b[0m eta \u001b[36m0:00:00\u001b[0m\n",
      "\u001b[?25hCollecting posthog>=2.4.0\n",
      "  Downloading posthog-3.6.5-py2.py3-none-any.whl (54 kB)\n",
      "\u001b[2K     \u001b[90m━━━━━━━━━━━━━━━━━━━━━━━━━━━━━━━━━━━━━━━━\u001b[0m \u001b[32m54.2/54.2 KB\u001b[0m \u001b[31m14.2 MB/s\u001b[0m eta \u001b[36m0:00:00\u001b[0m\n",
      "\u001b[?25hCollecting overrides>=7.3.1\n",
      "  Downloading overrides-7.7.0-py3-none-any.whl (17 kB)\n",
      "Collecting grpcio>=1.58.0\n",
      "  Downloading grpcio-1.66.1-cp310-cp310-manylinux_2_17_x86_64.manylinux2014_x86_64.whl (5.7 MB)\n",
      "\u001b[2K     \u001b[90m━━━━━━━━━━━━━━━━━━━━━━━━━━━━━━━━━━━━━━━━\u001b[0m \u001b[32m5.7/5.7 MB\u001b[0m \u001b[31m113.2 MB/s\u001b[0m eta \u001b[36m0:00:00\u001b[0m00:01\u001b[0m\n",
      "\u001b[?25hCollecting pydantic>=1.9\n",
      "  Downloading pydantic-2.9.1-py3-none-any.whl (434 kB)\n",
      "\u001b[2K     \u001b[90m━━━━━━━━━━━━━━━━━━━━━━━━━━━━━━━━━━━━━━\u001b[0m \u001b[32m434.4/434.4 KB\u001b[0m \u001b[31m53.1 MB/s\u001b[0m eta \u001b[36m0:00:00\u001b[0m\n",
      "\u001b[?25hRequirement already satisfied: numpy<2.0.0,>=1.22.5 in /home/trusted-service-user/cluster-env/env/lib/python3.10/site-packages (from chromadb) (1.23.4)\n",
      "Collecting kubernetes>=28.1.0\n",
      "  Downloading kubernetes-30.1.0-py2.py3-none-any.whl (1.7 MB)\n",
      "\u001b[2K     \u001b[90m━━━━━━━━━━━━━━━━━━━━━━━━━━━━━━━━━━━━━━━━\u001b[0m \u001b[32m1.7/1.7 MB\u001b[0m \u001b[31m93.5 MB/s\u001b[0m eta \u001b[36m0:00:00\u001b[0m\n",
      "\u001b[?25hCollecting httpx>=0.27.0\n",
      "  Downloading httpx-0.27.2-py3-none-any.whl (76 kB)\n",
      "\u001b[2K     \u001b[90m━━━━━━━━━━━━━━━━━━━━━━━━━━━━━━━━━━━━━━━━\u001b[0m \u001b[32m76.4/76.4 KB\u001b[0m \u001b[31m20.6 MB/s\u001b[0m eta \u001b[36m0:00:00\u001b[0m\n",
      "\u001b[?25hCollecting pypika>=0.48.9\n",
      "  Downloading PyPika-0.48.9.tar.gz (67 kB)\n",
      "\u001b[2K     \u001b[90m━━━━━━━━━━━━━━━━━━━━━━━━━━━━━━━━━━━━━━━━\u001b[0m \u001b[32m67.3/67.3 KB\u001b[0m \u001b[31m18.8 MB/s\u001b[0m eta \u001b[36m0:00:00\u001b[0m\n",
      "\u001b[?25h  Installing build dependencies ... \u001b[?25l-\b \b\\\b \b|\b \b/\b \bdone\n",
      "\u001b[?25h  Getting requirements to build wheel ... \u001b[?25l-\b \bdone\n",
      "\u001b[?25h  Preparing metadata (pyproject.toml) ... \u001b[?25l-\b \bdone\n",
      "\u001b[?25hCollecting chroma-hnswlib==0.7.6\n",
      "  Downloading chroma_hnswlib-0.7.6-cp310-cp310-manylinux_2_17_x86_64.manylinux2014_x86_64.whl (2.4 MB)\n",
      "\u001b[2K     \u001b[90m━━━━━━━━━━━━━━━━━━━━━━━━━━━━━━━━━━━━━━━━\u001b[0m \u001b[32m2.4/2.4 MB\u001b[0m \u001b[31m91.7 MB/s\u001b[0m eta \u001b[36m0:00:00\u001b[0m\n",
      "\u001b[?25hCollecting pyproject_hooks\n",
      "  Downloading pyproject_hooks-1.1.0-py3-none-any.whl (9.2 kB)\n",
      "Collecting tomli>=1.1.0\n",
      "  Downloading tomli-2.0.1-py3-none-any.whl (12 kB)\n",
      "Requirement already satisfied: packaging>=19.1 in /home/trusted-service-user/cluster-env/env/lib/python3.10/site-packages (from build>=1.0.3->chromadb) (21.3)\n",
      "Collecting starlette<0.39.0,>=0.37.2\n",
      "  Downloading starlette-0.38.5-py3-none-any.whl (71 kB)\n",
      "\u001b[2K     \u001b[90m━━━━━━━━━━━━━━━━━━━━━━━━━━━━━━━━━━━━━━━━\u001b[0m \u001b[32m71.4/71.4 KB\u001b[0m \u001b[31m23.1 MB/s\u001b[0m eta \u001b[36m0:00:00\u001b[0m\n",
      "\u001b[?25hRequirement already satisfied: certifi in /home/trusted-service-user/cluster-env/env/lib/python3.10/site-packages (from httpx>=0.27.0->chromadb) (2022.9.24)\n",
      "Collecting httpcore==1.*\n",
      "  Downloading httpcore-1.0.5-py3-none-any.whl (77 kB)\n",
      "\u001b[2K     \u001b[90m━━━━━━━━━━━━━━━━━━━━━━━━━━━━━━━━━━━━━━━━\u001b[0m \u001b[32m77.9/77.9 KB\u001b[0m \u001b[31m23.5 MB/s\u001b[0m eta \u001b[36m0:00:00\u001b[0m\n",
      "\u001b[?25hRequirement already satisfied: anyio in /home/trusted-service-user/cluster-env/env/lib/python3.10/site-packages (from httpx>=0.27.0->chromadb) (3.6.2)\n",
      "Requirement already satisfied: sniffio in /home/trusted-service-user/cluster-env/env/lib/python3.10/site-packages (from httpx>=0.27.0->chromadb) (1.3.0)\n",
      "Requirement already satisfied: idna in /home/trusted-service-user/cluster-env/env/lib/python3.10/site-packages (from httpx>=0.27.0->chromadb) (3.4)\n",
      "Collecting h11<0.15,>=0.13\n",
      "  Downloading h11-0.14.0-py3-none-any.whl (58 kB)\n",
      "\u001b[2K     \u001b[90m━━━━━━━━━━━━━━━━━━━━━━━━━━━━━━━━━━━━━━━━\u001b[0m \u001b[32m58.3/58.3 KB\u001b[0m \u001b[31m16.6 MB/s\u001b[0m eta \u001b[36m0:00:00\u001b[0m\n",
      "\u001b[?25hRequirement already satisfied: oauthlib>=3.2.2 in /home/trusted-service-user/cluster-env/env/lib/python3.10/site-packages (from kubernetes>=28.1.0->chromadb) (3.2.2)\n",
      "Requirement already satisfied: urllib3>=1.24.2 in /home/trusted-service-user/cluster-env/env/lib/python3.10/site-packages (from kubernetes>=28.1.0->chromadb) (1.26.4)\n",
      "Requirement already satisfied: websocket-client!=0.40.0,!=0.41.*,!=0.42.*,>=0.32.0 in /home/trusted-service-user/cluster-env/env/lib/python3.10/site-packages (from kubernetes>=28.1.0->chromadb) (1.4.2)\n",
      "Requirement already satisfied: six>=1.9.0 in /home/trusted-service-user/cluster-env/env/lib/python3.10/site-packages (from kubernetes>=28.1.0->chromadb) (1.16.0)\n",
      "Requirement already satisfied: requests in /home/trusted-service-user/cluster-env/env/lib/python3.10/site-packages (from kubernetes>=28.1.0->chromadb) (2.28.1)\n",
      "Requirement already satisfied: google-auth>=1.0.1 in /home/trusted-service-user/cluster-env/env/lib/python3.10/site-packages (from kubernetes>=28.1.0->chromadb) (2.14.0)\n",
      "Requirement already satisfied: requests-oauthlib in /home/trusted-service-user/cluster-env/env/lib/python3.10/site-packages (from kubernetes>=28.1.0->chromadb) (1.3.1)\n",
      "Requirement already satisfied: python-dateutil>=2.5.3 in /home/trusted-service-user/cluster-env/env/lib/python3.10/site-packages (from kubernetes>=28.1.0->chromadb) (2.8.2)\n",
      "Requirement already satisfied: sympy in /home/trusted-service-user/cluster-env/env/lib/python3.10/site-packages (from onnxruntime>=1.14.1->chromadb) (1.11.1)\n",
      "Requirement already satisfied: protobuf in /home/trusted-service-user/cluster-env/env/lib/python3.10/site-packages (from onnxruntime>=1.14.1->chromadb) (3.20.1)\n",
      "Requirement already satisfied: coloredlogs in /home/trusted-service-user/cluster-env/env/lib/python3.10/site-packages (from onnxruntime>=1.14.1->chromadb) (15.0.1)\n",
      "Requirement already satisfied: flatbuffers in /home/trusted-service-user/cluster-env/env/lib/python3.10/site-packages (from onnxruntime>=1.14.1->chromadb) (2.0)\n",
      "Collecting importlib-metadata<=8.4.0,>=6.0\n",
      "  Downloading importlib_metadata-8.4.0-py3-none-any.whl (26 kB)\n",
      "Collecting deprecated>=1.2.6\n",
      "  Downloading Deprecated-1.2.14-py2.py3-none-any.whl (9.6 kB)\n",
      "Collecting opentelemetry-proto==1.27.0\n",
      "  Downloading opentelemetry_proto-1.27.0-py3-none-any.whl (52 kB)\n",
      "\u001b[2K     \u001b[90m━━━━━━━━━━━━━━━━━━━━━━━━━━━━━━━━━━━━━━━━\u001b[0m \u001b[32m52.5/52.5 KB\u001b[0m \u001b[31m15.2 MB/s\u001b[0m eta \u001b[36m0:00:00\u001b[0m\n",
      "\u001b[?25hCollecting opentelemetry-exporter-otlp-proto-common==1.27.0\n",
      "  Downloading opentelemetry_exporter_otlp_proto_common-1.27.0-py3-none-any.whl (17 kB)\n",
      "Collecting googleapis-common-protos~=1.52\n",
      "  Downloading googleapis_common_protos-1.65.0-py2.py3-none-any.whl (220 kB)\n",
      "\u001b[2K     \u001b[90m━━━━━━━━━━━━━━━━━━━━━━━━━━━━━━━━━━━━━━\u001b[0m \u001b[32m220.9/220.9 KB\u001b[0m \u001b[31m52.3 MB/s\u001b[0m eta \u001b[36m0:00:00\u001b[0m\n",
      "\u001b[?25hCollecting opentelemetry-semantic-conventions==0.48b0\n",
      "  Downloading opentelemetry_semantic_conventions-0.48b0-py3-none-any.whl (149 kB)\n",
      "\u001b[2K     \u001b[90m━━━━━━━━━━━━━━━━━━━━━━━━━━━━━━━━━━━━━━\u001b[0m \u001b[32m149.7/149.7 KB\u001b[0m \u001b[31m35.5 MB/s\u001b[0m eta \u001b[36m0:00:00\u001b[0m\n",
      "\u001b[?25hCollecting opentelemetry-util-http==0.48b0\n",
      "  Downloading opentelemetry_util_http-0.48b0-py3-none-any.whl (6.9 kB)\n",
      "Collecting opentelemetry-instrumentation-asgi==0.48b0\n",
      "  Downloading opentelemetry_instrumentation_asgi-0.48b0-py3-none-any.whl (15 kB)\n",
      "Collecting opentelemetry-instrumentation==0.48b0\n",
      "  Downloading opentelemetry_instrumentation-0.48b0-py3-none-any.whl (29 kB)\n",
      "Requirement already satisfied: wrapt<2.0.0,>=1.0.0 in /home/trusted-service-user/cluster-env/env/lib/python3.10/site-packages (from opentelemetry-instrumentation==0.48b0->opentelemetry-instrumentation-fastapi>=0.41b0->chromadb) (1.14.1)\n",
      "Requirement already satisfied: setuptools>=16.0 in /home/trusted-service-user/cluster-env/env/lib/python3.10/site-packages (from opentelemetry-instrumentation==0.48b0->opentelemetry-instrumentation-fastapi>=0.41b0->chromadb) (65.5.1)\n",
      "Collecting asgiref~=3.0\n",
      "  Downloading asgiref-3.8.1-py3-none-any.whl (23 kB)\n",
      "Collecting monotonic>=1.5\n",
      "  Downloading monotonic-1.6-py2.py3-none-any.whl (8.2 kB)\n",
      "Collecting backoff>=1.10.0\n",
      "  Downloading backoff-2.2.1-py3-none-any.whl (15 kB)\n",
      "Collecting pydantic-core==2.23.3\n",
      "  Downloading pydantic_core-2.23.3-cp310-cp310-manylinux_2_17_x86_64.manylinux2014_x86_64.whl (2.1 MB)\n",
      "\u001b[2K     \u001b[90m━━━━━━━━━━━━━━━━━━━━━━━━━━━━━━━━━━━━━━━━\u001b[0m \u001b[32m2.1/2.1 MB\u001b[0m \u001b[31m95.0 MB/s\u001b[0m eta \u001b[36m0:00:00\u001b[0m\n",
      "\u001b[?25hCollecting annotated-types>=0.6.0\n",
      "  Downloading annotated_types-0.7.0-py3-none-any.whl (13 kB)\n",
      "Collecting huggingface-hub<1.0,>=0.16.4\n",
      "  Downloading huggingface_hub-0.24.7-py3-none-any.whl (417 kB)\n",
      "\u001b[2K     \u001b[90m━━━━━━━━━━━━━━━━━━━━━━━━━━━━━━━━━━━━━━\u001b[0m \u001b[32m417.5/417.5 KB\u001b[0m \u001b[31m66.2 MB/s\u001b[0m eta \u001b[36m0:00:00\u001b[0m\n",
      "\u001b[?25hRequirement already satisfied: click>=8.0.0 in /home/trusted-service-user/cluster-env/env/lib/python3.10/site-packages (from typer>=0.9.0->chromadb) (8.1.3)\n",
      "Collecting shellingham>=1.3.0\n",
      "  Downloading shellingham-1.5.4-py2.py3-none-any.whl (9.8 kB)\n",
      "Collecting rich>=10.11.0\n",
      "  Downloading rich-13.8.1-py3-none-any.whl (241 kB)\n",
      "\u001b[2K     \u001b[90m━━━━━━━━━━━━━━━━━━━━━━━━━━━━━━━━━━━━━━\u001b[0m \u001b[32m241.6/241.6 KB\u001b[0m \u001b[31m55.0 MB/s\u001b[0m eta \u001b[36m0:00:00\u001b[0m\n",
      "\u001b[?25hCollecting uvloop!=0.15.0,!=0.15.1,>=0.14.0\n",
      "  Downloading uvloop-0.20.0-cp310-cp310-manylinux_2_17_x86_64.manylinux2014_x86_64.whl (3.4 MB)\n",
      "\u001b[2K     \u001b[90m━━━━━━━━━━━━━━━━━━━━━━━━━━━━━━━━━━━━━━━━\u001b[0m \u001b[32m3.4/3.4 MB\u001b[0m \u001b[31m84.0 MB/s\u001b[0m eta \u001b[36m0:00:00\u001b[0m:00:01\u001b[0m\n",
      "\u001b[?25hCollecting watchfiles>=0.13\n",
      "  Downloading watchfiles-0.24.0-cp310-cp310-manylinux_2_17_x86_64.manylinux2014_x86_64.whl (425 kB)\n",
      "\u001b[2K     \u001b[90m━━━━━━━━━━━━━━━━━━━━━━━━━━━━━━━━━━━━━━\u001b[0m \u001b[32m425.7/425.7 KB\u001b[0m \u001b[31m70.8 MB/s\u001b[0m eta \u001b[36m0:00:00\u001b[0m\n",
      "\u001b[?25hCollecting websockets>=10.4\n",
      "  Downloading websockets-13.0.1-cp310-cp310-manylinux_2_5_x86_64.manylinux1_x86_64.manylinux_2_17_x86_64.manylinux2014_x86_64.whl (157 kB)\n",
      "\u001b[2K     \u001b[90m━━━━━━━━━━━━━━━━━━━━━━━━━━━━━━━━━━━━━━\u001b[0m \u001b[32m157.3/157.3 KB\u001b[0m \u001b[31m28.8 MB/s\u001b[0m eta \u001b[36m0:00:00\u001b[0m\n",
      "\u001b[?25hCollecting python-dotenv>=0.13\n",
      "  Downloading python_dotenv-1.0.1-py3-none-any.whl (19 kB)\n",
      "Collecting httptools>=0.5.0\n",
      "  Downloading httptools-0.6.1-cp310-cp310-manylinux_2_5_x86_64.manylinux1_x86_64.manylinux_2_17_x86_64.manylinux2014_x86_64.whl (341 kB)\n",
      "\u001b[2K     \u001b[90m━━━━━━━━━━━━━━━━━━━━━━━━━━━━━━━━━━━━━━\u001b[0m \u001b[32m341.4/341.4 KB\u001b[0m \u001b[31m58.4 MB/s\u001b[0m eta \u001b[36m0:00:00\u001b[0m\n",
      "\u001b[?25hRequirement already satisfied: rsa<5,>=3.1.4 in /home/trusted-service-user/cluster-env/env/lib/python3.10/site-packages (from google-auth>=1.0.1->kubernetes>=28.1.0->chromadb) (4.9)\n",
      "Requirement already satisfied: pyasn1-modules>=0.2.1 in /home/trusted-service-user/cluster-env/env/lib/python3.10/site-packages (from google-auth>=1.0.1->kubernetes>=28.1.0->chromadb) (0.2.7)\n",
      "Requirement already satisfied: cachetools<6.0,>=2.0.0 in /home/trusted-service-user/cluster-env/env/lib/python3.10/site-packages (from google-auth>=1.0.1->kubernetes>=28.1.0->chromadb) (5.2.0)\n",
      "Collecting protobuf\n",
      "  Downloading protobuf-4.25.4-cp37-abi3-manylinux2014_x86_64.whl (294 kB)\n",
      "\u001b[2K     \u001b[90m━━━━━━━━━━━━━━━━━━━━━━━━━━━━━━━━━━━━━━\u001b[0m \u001b[32m294.6/294.6 KB\u001b[0m \u001b[31m63.5 MB/s\u001b[0m eta \u001b[36m0:00:00\u001b[0m\n",
      "\u001b[?25hRequirement already satisfied: filelock in /home/trusted-service-user/cluster-env/env/lib/python3.10/site-packages (from huggingface-hub<1.0,>=0.16.4->tokenizers>=0.13.2->chromadb) (3.8.0)\n",
      "Collecting fsspec>=2023.5.0\n",
      "  Downloading fsspec-2024.9.0-py3-none-any.whl (179 kB)\n",
      "\u001b[2K     \u001b[90m━━━━━━━━━━━━━━━━━━━━━━━━━━━━━━━━━━━━━━\u001b[0m \u001b[32m179.3/179.3 KB\u001b[0m \u001b[31m48.7 MB/s\u001b[0m eta \u001b[36m0:00:00\u001b[0m\n",
      "\u001b[?25hRequirement already satisfied: zipp>=0.5 in /home/trusted-service-user/cluster-env/env/lib/python3.10/site-packages (from importlib-metadata<=8.4.0,>=6.0->opentelemetry-api>=1.2.0->chromadb) (3.10.0)\n",
      "Requirement already satisfied: pyparsing!=3.0.5,>=2.0.2 in /home/trusted-service-user/cluster-env/env/lib/python3.10/site-packages (from packaging>=19.1->build>=1.0.3->chromadb) (3.0.9)\n",
      "Requirement already satisfied: charset-normalizer<3,>=2 in /home/trusted-service-user/cluster-env/env/lib/python3.10/site-packages (from requests->kubernetes>=28.1.0->chromadb) (2.1.1)\n",
      "Requirement already satisfied: pygments<3.0.0,>=2.13.0 in /home/trusted-service-user/cluster-env/env/lib/python3.10/site-packages (from rich>=10.11.0->typer>=0.9.0->chromadb) (2.13.0)\n",
      "Collecting markdown-it-py>=2.2.0\n",
      "  Downloading markdown_it_py-3.0.0-py3-none-any.whl (87 kB)\n",
      "\u001b[2K     \u001b[90m━━━━━━━━━━━━━━━━━━━━━━━━━━━━━━━━━━━━━━━━\u001b[0m \u001b[32m87.5/87.5 KB\u001b[0m \u001b[31m23.8 MB/s\u001b[0m eta \u001b[36m0:00:00\u001b[0m\n",
      "\u001b[?25hRequirement already satisfied: humanfriendly>=9.1 in /home/trusted-service-user/cluster-env/env/lib/python3.10/site-packages (from coloredlogs->onnxruntime>=1.14.1->chromadb) (10.0)\n",
      "Requirement already satisfied: mpmath>=0.19 in /home/trusted-service-user/cluster-env/env/lib/python3.10/site-packages (from sympy->onnxruntime>=1.14.1->chromadb) (1.2.1)\n",
      "Collecting mdurl~=0.1\n",
      "  Downloading mdurl-0.1.2-py3-none-any.whl (10.0 kB)\n",
      "Requirement already satisfied: pyasn1<0.5.0,>=0.4.6 in /home/trusted-service-user/cluster-env/env/lib/python3.10/site-packages (from pyasn1-modules>=0.2.1->google-auth>=1.0.1->kubernetes>=28.1.0->chromadb) (0.4.8)\n",
      "Building wheels for collected packages: pypika\n",
      "  Building wheel for pypika (pyproject.toml) ... \u001b[?25l-\b \b\\\b \b|\b \bdone\n",
      "\u001b[?25h  Created wheel for pypika: filename=PyPika-0.48.9-py2.py3-none-any.whl size=53724 sha256=9354cc141bd397345962872e8776f7f67e8342db05e3180afa61d4479b13068d\n",
      "  Stored in directory: /home/trusted-service-user/.cache/pip/wheels/e1/26/51/d0bffb3d2fd82256676d7ad3003faea3bd6dddc9577af665f4\n",
      "Successfully built pypika\n",
      "Installing collected packages: pypika, monotonic, mmh3, websockets, uvloop, typing-extensions, tqdm, tomli, tenacity, shellingham, python-dotenv, pyproject_hooks, protobuf, overrides, orjson, opentelemetry-util-http, mdurl, importlib-resources, importlib-metadata, httptools, h11, grpcio, fsspec, deprecated, chroma-hnswlib, backoff, annotated-types, watchfiles, uvicorn, starlette, pydantic-core, posthog, opentelemetry-proto, opentelemetry-api, onnxruntime, markdown-it-py, huggingface-hub, httpcore, googleapis-common-protos, build, asgiref, tokenizers, rich, pydantic, opentelemetry-semantic-conventions, opentelemetry-instrumentation, opentelemetry-exporter-otlp-proto-common, kubernetes, httpx, typer, opentelemetry-sdk, opentelemetry-instrumentation-asgi, fastapi, opentelemetry-instrumentation-fastapi, opentelemetry-exporter-otlp-proto-grpc, chromadb\n",
      "  Attempting uninstall: typing-extensions\n",
      "    Found existing installation: typing_extensions 4.4.0\n",
      "    Not uninstalling typing-extensions at /home/trusted-service-user/cluster-env/env/lib/python3.10/site-packages, outside environment /nfs4/pyenv-5890e340-53bd-4fe2-a8e6-a223006114e0\n",
      "    Can't uninstall 'typing_extensions'. No files were found to uninstall.\n",
      "  Attempting uninstall: tqdm\n",
      "    Found existing installation: tqdm 4.64.1\n",
      "    Not uninstalling tqdm at /home/trusted-service-user/cluster-env/env/lib/python3.10/site-packages, outside environment /nfs4/pyenv-5890e340-53bd-4fe2-a8e6-a223006114e0\n",
      "    Can't uninstall 'tqdm'. No files were found to uninstall.\n",
      "  Attempting uninstall: protobuf\n",
      "    Found existing installation: protobuf 3.20.1\n",
      "    Not uninstalling protobuf at /home/trusted-service-user/cluster-env/env/lib/python3.10/site-packages, outside environment /nfs4/pyenv-5890e340-53bd-4fe2-a8e6-a223006114e0\n",
      "    Can't uninstall 'protobuf'. No files were found to uninstall.\n",
      "  Attempting uninstall: importlib-metadata\n",
      "    Found existing installation: importlib-metadata 5.0.0\n",
      "    Not uninstalling importlib-metadata at /home/trusted-service-user/cluster-env/env/lib/python3.10/site-packages, outside environment /nfs4/pyenv-5890e340-53bd-4fe2-a8e6-a223006114e0\n",
      "    Can't uninstall 'importlib-metadata'. No files were found to uninstall.\n",
      "  Attempting uninstall: grpcio\n",
      "    Found existing installation: grpcio 1.46.4\n",
      "    Not uninstalling grpcio at /home/trusted-service-user/cluster-env/env/lib/python3.10/site-packages, outside environment /nfs4/pyenv-5890e340-53bd-4fe2-a8e6-a223006114e0\n",
      "    Can't uninstall 'grpcio'. No files were found to uninstall.\n",
      "  Attempting uninstall: fsspec\n",
      "    Found existing installation: fsspec 2022.10.0\n",
      "    Not uninstalling fsspec at /home/trusted-service-user/cluster-env/env/lib/python3.10/site-packages, outside environment /nfs4/pyenv-5890e340-53bd-4fe2-a8e6-a223006114e0\n",
      "    Can't uninstall 'fsspec'. No files were found to uninstall.\n",
      "  Attempting uninstall: onnxruntime\n",
      "    Found existing installation: onnxruntime 1.13.1\n",
      "    Not uninstalling onnxruntime at /home/trusted-service-user/cluster-env/env/lib/python3.10/site-packages, outside environment /nfs4/pyenv-5890e340-53bd-4fe2-a8e6-a223006114e0\n",
      "    Can't uninstall 'onnxruntime'. No files were found to uninstall.\n",
      "\u001b[31mERROR: pip's dependency resolver does not currently take into account all the packages that are installed. This behaviour is the source of the following dependency conflicts.\n",
      "tensorflow 2.10.0 requires protobuf<3.20,>=3.9.2, but you have protobuf 4.25.4 which is incompatible.\n",
      "onnx 1.12.0 requires protobuf<=3.20.1,>=3.12.2, but you have protobuf 4.25.4 which is incompatible.\n",
      "mlflow-skinny 1.30.0 requires importlib-metadata!=4.7.0,<6,>=3.7.0, but you have importlib-metadata 8.4.0 which is incompatible.\n",
      "azureml-mlflow 1.47.0 requires azure-storage-blob<=12.13.0,>=12.5.0, but you have azure-storage-blob 12.14.1 which is incompatible.\u001b[0m\u001b[31m\n",
      "\u001b[0mSuccessfully installed annotated-types-0.7.0 asgiref-3.8.1 backoff-2.2.1 build-1.2.2 chroma-hnswlib-0.7.6 chromadb-0.5.5 deprecated-1.2.14 fastapi-0.114.2 fsspec-2024.9.0 googleapis-common-protos-1.65.0 grpcio-1.66.1 h11-0.14.0 httpcore-1.0.5 httptools-0.6.1 httpx-0.27.2 huggingface-hub-0.24.7 importlib-metadata-8.4.0 importlib-resources-6.4.5 kubernetes-30.1.0 markdown-it-py-3.0.0 mdurl-0.1.2 mmh3-4.1.0 monotonic-1.6 onnxruntime-1.19.2 opentelemetry-api-1.27.0 opentelemetry-exporter-otlp-proto-common-1.27.0 opentelemetry-exporter-otlp-proto-grpc-1.27.0 opentelemetry-instrumentation-0.48b0 opentelemetry-instrumentation-asgi-0.48b0 opentelemetry-instrumentation-fastapi-0.48b0 opentelemetry-proto-1.27.0 opentelemetry-sdk-1.27.0 opentelemetry-semantic-conventions-0.48b0 opentelemetry-util-http-0.48b0 orjson-3.10.7 overrides-7.7.0 posthog-3.6.5 protobuf-4.25.4 pydantic-2.9.1 pydantic-core-2.23.3 pypika-0.48.9 pyproject_hooks-1.1.0 python-dotenv-1.0.1 rich-13.8.1 shellingham-1.5.4 starlette-0.38.5 tenacity-9.0.0 tokenizers-0.20.0 tomli-2.0.1 tqdm-4.66.5 typer-0.12.5 typing-extensions-4.12.2 uvicorn-0.30.6 uvloop-0.20.0 watchfiles-0.24.0 websockets-13.0.1\n",
      "\u001b[33mWARNING: You are using pip version 22.0.4; however, version 24.2 is available.\n",
      "You should consider upgrading via the '/nfs4/pyenv-5890e340-53bd-4fe2-a8e6-a223006114e0/bin/python -m pip install --upgrade pip' command.\u001b[0m\u001b[33m\n",
      "\u001b[0mNote: you may need to restart the kernel to use updated packages.\n",
      "Collecting openai\n",
      "  Downloading openai-1.45.0-py3-none-any.whl (374 kB)\n",
      "\u001b[2K     \u001b[90m━━━━━━━━━━━━━━━━━━━━━━━━━━━━━━━━━━━━━━\u001b[0m \u001b[32m374.1/374.1 KB\u001b[0m \u001b[31m12.4 MB/s\u001b[0m eta \u001b[36m0:00:00\u001b[0m\n",
      "\u001b[?25hRequirement already satisfied: httpx<1,>=0.23.0 in /nfs4/pyenv-5890e340-53bd-4fe2-a8e6-a223006114e0/lib/python3.10/site-packages (from openai) (0.27.2)\n",
      "Requirement already satisfied: distro<2,>=1.7.0 in /home/trusted-service-user/cluster-env/env/lib/python3.10/site-packages (from openai) (1.8.0)\n",
      "Collecting jiter<1,>=0.4.0\n",
      "  Downloading jiter-0.5.0-cp310-cp310-manylinux_2_17_x86_64.manylinux2014_x86_64.whl (318 kB)\n",
      "\u001b[2K     \u001b[90m━━━━━━━━━━━━━━━━━━━━━━━━━━━━━━━━━━━━━━\u001b[0m \u001b[32m318.9/318.9 KB\u001b[0m \u001b[31m33.4 MB/s\u001b[0m eta \u001b[36m0:00:00\u001b[0m\n",
      "\u001b[?25hRequirement already satisfied: anyio<5,>=3.5.0 in /home/trusted-service-user/cluster-env/env/lib/python3.10/site-packages (from openai) (3.6.2)\n",
      "Requirement already satisfied: typing-extensions<5,>=4.11 in /nfs4/pyenv-5890e340-53bd-4fe2-a8e6-a223006114e0/lib/python3.10/site-packages (from openai) (4.12.2)\n",
      "Requirement already satisfied: pydantic<3,>=1.9.0 in /nfs4/pyenv-5890e340-53bd-4fe2-a8e6-a223006114e0/lib/python3.10/site-packages (from openai) (2.9.1)\n",
      "Requirement already satisfied: tqdm>4 in /nfs4/pyenv-5890e340-53bd-4fe2-a8e6-a223006114e0/lib/python3.10/site-packages (from openai) (4.66.5)\n",
      "Requirement already satisfied: sniffio in /home/trusted-service-user/cluster-env/env/lib/python3.10/site-packages (from openai) (1.3.0)\n",
      "Requirement already satisfied: idna>=2.8 in /home/trusted-service-user/cluster-env/env/lib/python3.10/site-packages (from anyio<5,>=3.5.0->openai) (3.4)\n",
      "Requirement already satisfied: httpcore==1.* in /nfs4/pyenv-5890e340-53bd-4fe2-a8e6-a223006114e0/lib/python3.10/site-packages (from httpx<1,>=0.23.0->openai) (1.0.5)\n",
      "Requirement already satisfied: certifi in /home/trusted-service-user/cluster-env/env/lib/python3.10/site-packages (from httpx<1,>=0.23.0->openai) (2022.9.24)\n",
      "Requirement already satisfied: h11<0.15,>=0.13 in /nfs4/pyenv-5890e340-53bd-4fe2-a8e6-a223006114e0/lib/python3.10/site-packages (from httpcore==1.*->httpx<1,>=0.23.0->openai) (0.14.0)\n",
      "Requirement already satisfied: annotated-types>=0.6.0 in /nfs4/pyenv-5890e340-53bd-4fe2-a8e6-a223006114e0/lib/python3.10/site-packages (from pydantic<3,>=1.9.0->openai) (0.7.0)\n",
      "Requirement already satisfied: pydantic-core==2.23.3 in /nfs4/pyenv-5890e340-53bd-4fe2-a8e6-a223006114e0/lib/python3.10/site-packages (from pydantic<3,>=1.9.0->openai) (2.23.3)\n",
      "Installing collected packages: jiter, openai\n",
      "Successfully installed jiter-0.5.0 openai-1.45.0\n",
      "\u001b[33mWARNING: You are using pip version 22.0.4; however, version 24.2 is available.\n",
      "You should consider upgrading via the '/nfs4/pyenv-5890e340-53bd-4fe2-a8e6-a223006114e0/bin/python -m pip install --upgrade pip' command.\u001b[0m\u001b[33m\n",
      "\u001b[0mNote: you may need to restart the kernel to use updated packages.\n"
     ]
    },
    {
     "data": {},
     "execution_count": 4,
     "metadata": {},
     "output_type": "execute_result"
    },
    {
     "name": "stdout",
     "output_type": "stream",
     "text": [
      "Warning: PySpark kernel has been restarted to use updated packages.\n",
      "\n"
     ]
    }
   ],
   "source": [
    "# Instalamos los paquetes necesarios\n",
    "%pip install pysqlite3\n",
    "%pip install chromadb\n",
    "%pip install openai"
   ]
  },
  {
   "cell_type": "markdown",
   "metadata": {
    "nteract": {
     "transient": {
      "deleting": false
     }
    }
   },
   "source": [
    "### Importamos los paquetes a utilizar\n",
    "\n",
    "Y definimos algunas variables que se utilizarán a lo largo de todo el notebook"
   ]
  },
  {
   "cell_type": "code",
   "execution_count": 1,
   "metadata": {
    "collapsed": false,
    "gather": {
     "logged": 1726453623872
    },
    "jupyter": {
     "outputs_hidden": false,
     "source_hidden": false
    },
    "nteract": {
     "transient": {
      "deleting": false
     }
    }
   },
   "outputs": [],
   "source": [
    "__import__('pysqlite3')\n",
    "import sys\n",
    "sys.modules['sqlite3'] = sys.modules.pop('pysqlite3')\n",
    "\n",
    "from typing import List, Union\n",
    "\n",
    "from openai import OpenAI\n",
    "import os\n",
    "import re\n",
    "import chromadb\n",
    "import pandas as pd\n",
    "from chromadb.api.models.Collection import Collection\n",
    "from chromadb.utils.embedding_functions import OpenAIEmbeddingFunction\n",
    "\n",
    "\n",
    "pd.set_option('max_colwidth', 1000)\n",
    "\n",
    "# Seteamos variables\n",
    "OPENAI_API_KEY = ''\n",
    "LLM_MODEL = \"gpt-3.5-turbo-0125\""
   ]
  },
  {
   "cell_type": "markdown",
   "metadata": {
    "nteract": {
     "transient": {
      "deleting": false
     }
    }
   },
   "source": [
    "# 1) Versión 1 del agente\n",
    "\n",
    "Utilizando solo el conocimiento que tiene el modelo de lenguaje, y utilizando un prompt para guiar la respuesta\n",
    "\n",
    "La idea es crear una clase `Chatbot`, para dejar encapsulado y prolijo todo lo referente a la interacción con el modelo de lenguaje natural.\n",
    "\n",
    "Tiene un prompt \"oculto\", que se le pasa con la `key` \"system\". Es una instrucción general para que el modelo responda. Esta técnica es tal vez la más básica para empezar a controlar las respuestas del modelo. \n",
    "\n",
    "Es más bien una \"sugerencia\", ya que no estamos imponiendo ninguna restricción dura, pero efectivamente genera un cambio en las respuestas"
   ]
  },
  {
   "cell_type": "markdown",
   "metadata": {
    "nteract": {
     "transient": {
      "deleting": false
     }
    }
   },
   "source": [
    "## VanilaChatBot\n",
    "\n",
    "Le llamamos \"Vanila\" al chatbot más básico posible. \n",
    "A medida que avancemos en este notebook iremos complejizándolo.\n",
    "\n",
    "El procedimiento que seguiremos es el siguiente:\n",
    "\n",
    "1. Definir la clase\n",
    "2. Crear una instancia\n",
    "3. Hacer una pregunta"
   ]
  },
  {
   "cell_type": "code",
   "execution_count": 2,
   "metadata": {
    "collapsed": false,
    "gather": {
     "logged": 1726453628302
    },
    "jupyter": {
     "outputs_hidden": false,
     "source_hidden": false
    },
    "nteract": {
     "transient": {
      "deleting": false
     }
    }
   },
   "outputs": [],
   "source": [
    "# 1. Definimos la clase \n",
    "\n",
    "class VanilaChatBot:\n",
    "    def __init__(self, prompt: Union[str, None] = None, llm_name: Union[str, None] = None):\n",
    "        \n",
    "        # Establecemos conexión con OpenAI\n",
    "        self.openai_client = OpenAI(api_key=OPENAI_API_KEY)\n",
    "        self.total_cost = 0\n",
    "\n",
    "        if prompt:\n",
    "            self.history: List[str] = [{'role':'system', 'content': prompt}]\n",
    "        else:\n",
    "            self.history: List[str] = [{\n",
    "                'role':'system', \n",
    "                'content': \"Te van a hacer preguntas acerca del proceso de Transporte de madera. \" \n",
    "                    \"Contestar con información técnica que tengas en tu base de conocimientos.\"\n",
    "            }]\n",
    "        \n",
    "        if llm_name:\n",
    "            self.llm_name = llm_name\n",
    "        else:\n",
    "            self.llm_name = \"gpt-3.5-turbo-0125\"\n",
    "    \n",
    "    def chat(self, message: str, print_conversation: bool = True):\n",
    "        self.process_new_message(message, print_conversation)\n",
    "\n",
    "    def process_new_message(self, message: str, print_conversation: bool = True):\n",
    "        self.history.append({'role':'user', 'content':message})\n",
    "        \n",
    "        response=self.get_response()\n",
    "        self.history.append({'role':'assistant', 'content':response})\n",
    "        \n",
    "        if print_conversation:\n",
    "            self.print_history()\n",
    "\n",
    "    def get_response(self, temperature=0):\n",
    "        response = self.openai_client.chat.completions.create(\n",
    "            model=self.llm_name,\n",
    "            messages=self.history,\n",
    "            temperature=temperature,\n",
    "        )\n",
    "        self.total_cost += self.openai_api_calculate_cost(usage=response.usage.to_dict())\n",
    "        return response.choices[0].message.content\n",
    "\n",
    "    def print_history(self):\n",
    "        def bold(text: str):\n",
    "            return '\\033[1m'+ text +'\\033[0m'\n",
    "\n",
    "        for message in self.history[1:]:\n",
    "            print(f\"{bold(message['role'].upper())}: {message['content']}\\n\")\n",
    "        \n",
    "        print(f\"\\n {bold('Costo total de la conversación'.upper())}: {self.total_cost:.7f}\")\n",
    "\n",
    "    def openai_api_calculate_cost(self, usage: dict) -> float:\n",
    "        pricing = {\n",
    "            'gpt-3.5-turbo-0125': {\n",
    "                'prompt': 0.5,\n",
    "                'completion': 1.5,\n",
    "            },\n",
    "            'gpt-4': {\n",
    "                'prompt': 30,\n",
    "                'completion': 60,\n",
    "            },\n",
    "            'gpt-4-0125-preview': {\n",
    "                'prompt': 10,\n",
    "                'completion': 30,\n",
    "            },\n",
    "            'gpt-4o': {\n",
    "                'prompt': 5,\n",
    "                'completion': 15,\n",
    "            },\n",
    "            'text-embedding-3-small': {\n",
    "                'prompt': 0.02,\n",
    "                'completion': 0.02,\n",
    "            },\n",
    "            'text-embedding-3-large': {\n",
    "                'prompt': 0.13,\n",
    "                'completion': 0.13,\n",
    "            }\n",
    "        }\n",
    "\n",
    "        try:\n",
    "            model_pricing = pricing[self.llm_name]\n",
    "        except KeyError:\n",
    "            raise ValueError(\"Invalid model specified\")\n",
    "\n",
    "        prompt_cost = usage['prompt_tokens'] * model_pricing['prompt'] / 1000000\n",
    "        completion_cost = usage['completion_tokens'] * model_pricing['completion'] / 1000000\n",
    "\n",
    "        total_cost = prompt_cost + completion_cost\n",
    "        return total_cost"
   ]
  },
  {
   "cell_type": "code",
   "execution_count": 3,
   "metadata": {
    "collapsed": false,
    "gather": {
     "logged": 1726453630501
    },
    "jupyter": {
     "outputs_hidden": false,
     "source_hidden": false
    },
    "nteract": {
     "transient": {
      "deleting": false
     }
    }
   },
   "outputs": [],
   "source": [
    "# 2. Creamos una instancia\n",
    "vanila_chatbot = VanilaChatBot(llm_name=LLM_MODEL)"
   ]
  },
  {
   "cell_type": "code",
   "execution_count": 4,
   "metadata": {
    "collapsed": false,
    "gather": {
     "logged": 1726453633810
    },
    "jupyter": {
     "outputs_hidden": false,
     "source_hidden": false
    },
    "nteract": {
     "transient": {
      "deleting": false
     }
    }
   },
   "outputs": [
    {
     "name": "stdout",
     "output_type": "stream",
     "text": [
      "\u001b[1mUSER\u001b[0m:  Existe alguna reglamentación que trate el transporte de la madera? Responder de forma concisa y solo indicando la identificación de las reglamentaciones.\n",
      "\n",
      "\n",
      "\u001b[1mASSISTANT\u001b[0m: Algunas de las reglamentaciones que tratan el transporte de la madera son:\n",
      "\n",
      "1. Norma NCh 2369 Of.2003 Transporte de madera en rollo - Requisitos generales.\n",
      "2. Reglamento de Transporte Terrestre de Materiales y Residuos Peligrosos (Decreto Supremo N° 148/2003 del Ministerio de Transportes y Telecomunicaciones de Chile).\n",
      "3. Reglamento de Transporte de Carga Peligrosa por Carretera (Resolución N° 1.134/2003 de la Comisión Nacional de Energía de Chile).\n",
      "\n",
      "\n",
      " \u001b[1mCOSTO TOTAL DE LA CONVERSACIÓN\u001b[0m: 0.0002490\n"
     ]
    }
   ],
   "source": [
    "# 3. Hacemos una pregunta\n",
    "vanila_chatbot.chat(\"\"\" Existe alguna reglamentación que trate el transporte de la madera? \\\n",
    "Responder de forma concisa y solo indicando la identificación de las reglamentaciones.\n",
    "\"\"\")"
   ]
  },
  {
   "cell_type": "code",
   "execution_count": 5,
   "metadata": {
    "collapsed": false,
    "gather": {
     "logged": 1726453635010
    },
    "jupyter": {
     "outputs_hidden": false,
     "source_hidden": false
    },
    "nteract": {
     "transient": {
      "deleting": false
     }
    }
   },
   "outputs": [
    {
     "name": "stdout",
     "output_type": "stream",
     "text": [
      "\u001b[1mUSER\u001b[0m:  Existe alguna reglamentación que trate el transporte de la madera? Responder de forma concisa y solo indicando la identificación de las reglamentaciones.\n",
      "\n",
      "\n",
      "\u001b[1mASSISTANT\u001b[0m: Algunas de las reglamentaciones que tratan el transporte de la madera son:\n",
      "\n",
      "1. Norma NCh 2369 Of.2003 Transporte de madera en rollo - Requisitos generales.\n",
      "2. Reglamento de Transporte Terrestre de Materiales y Residuos Peligrosos (Decreto Supremo N° 148/2003 del Ministerio de Transportes y Telecomunicaciones de Chile).\n",
      "3. Reglamento de Transporte de Carga Peligrosa por Carretera (Resolución N° 1.134/2003 de la Comisión Nacional de Energía de Chile).\n",
      "\n",
      "\u001b[1mUSER\u001b[0m: De donde son estas reglamentaciones?\n",
      "\n",
      "\u001b[1mASSISTANT\u001b[0m: Las reglamentaciones mencionadas son de Chile.\n",
      "\n",
      "\n",
      " \u001b[1mCOSTO TOTAL DE LA CONVERSACIÓN\u001b[0m: 0.0003855\n"
     ]
    }
   ],
   "source": [
    "# Continuamos con la conversación\n",
    "vanila_chatbot.chat(\"De donde son estas reglamentaciones?\")"
   ]
  },
  {
   "cell_type": "markdown",
   "metadata": {
    "nteract": {
     "transient": {
      "deleting": false
     }
    }
   },
   "source": [
    "## Ejercicio\n",
    "\n",
    "Cambie el prompt del sistema para ver una respuesta distinta.\n",
    "\n",
    "Lineamiento: No cambiar el código de la clase `VanilaChatBot`"
   ]
  },
  {
   "cell_type": "code",
   "execution_count": null,
   "metadata": {
    "collapsed": false,
    "jupyter": {
     "outputs_hidden": false,
     "source_hidden": false
    },
    "nteract": {
     "transient": {
      "deleting": false
     }
    }
   },
   "outputs": [
    {
     "data": {
      "application/vnd.livy.statement-meta+json": {
       "execution_finish_time": null,
       "execution_start_time": null,
       "livy_statement_state": null,
       "normalized_state": "waiting",
       "parent_msg_id": "3ecc881f-515f-436b-b1ec-ccc43f4a2a7e",
       "queued_time": "2024-09-04T13:08:00.1733709Z",
       "session_id": null,
       "session_start_time": null,
       "spark_jobs": null,
       "spark_pool": null,
       "state": "waiting",
       "statement_id": null,
       "statement_ids": null
      },
      "text/plain": [
       "StatementMeta(, , , Waiting, , Waiting)"
      ]
     },
     "metadata": {},
     "output_type": "display_data"
    }
   ],
   "source": [
    "# ================================================================\n",
    "# Complete aquí su solución\n",
    "# ----------------------------------------------------------------\n",
    "\n",
    "# Genere un nuevo prompt\n",
    "\n",
    "\n",
    "# Cree una nueva instancia de la clase VanilaChatBot que use ese prompt\n",
    "\n",
    "\n",
    "# Chatee con el modelo\n",
    "\n",
    "\n",
    "\n",
    "# ================================================================"
   ]
  },
  {
   "cell_type": "code",
   "execution_count": 6,
   "metadata": {
    "gather": {
     "logged": 1724971619389
    },
    "nteract": {
     "transient": {
      "deleting": false
     }
    }
   },
   "outputs": [
    {
     "name": "stdout",
     "output_type": "stream",
     "text": [
      "\u001b[1mUSER\u001b[0m: Existe alguna reglamentación que trate el transporte de la madera?\n",
      "\n",
      "\u001b[1mASSISTANT\u001b[0m: Así como en el fútbol se establecen reglas estrictas para garantizar un juego limpio y justo, en el transporte de la madera también existen regulaciones y normativas que buscan asegurar su transporte de manera segura, sostenible y respetuosa con el medio ambiente. Estas normas buscan prevenir la tala ilegal, promover la trazabilidad de la madera y garantizar su origen legal, de manera similar a cómo las reglas en el fútbol buscan mantener la integridad y el espíritu deportivo del juego.\n",
      "\n",
      "\n",
      " \u001b[1mCOSTO TOTAL DE LA CONVERSACIÓN\u001b[0m: 0.0002165\n"
     ]
    }
   ],
   "source": [
    "# Solución \n",
    "\n",
    "vanila_chatbot_random = VanilaChatBot(\n",
    "    prompt=\"Responde con una analogía sofisticada de fútbol.\",\n",
    "    llm_name=LLM_MODEL\n",
    ")\n",
    "\n",
    "vanila_chatbot_random.chat(\"Existe alguna reglamentación que trate el transporte de la madera?\")"
   ]
  },
  {
   "cell_type": "markdown",
   "metadata": {
    "nteract": {
     "transient": {
      "deleting": false
     }
    }
   },
   "source": [
    "# 2) Agregado de documentos en prompt\n",
    "\n",
    "En esta sección veremos la técnica más sencilla posible para hacer que el modelo de lenguaje responda en base a ciertos documentos con información relevante para el caso de uso. \n",
    "\n",
    "Utilizaremos algunos documentos provistos por Montes del Plata. \n",
    "\n",
    "Típicamente queremos hacer esto cuando tenemos documentos con información particular de nuestro problema, y dicha información probablemente no se encontrará disponible en la base de conocimiento de los modelos de lenguaje pre-entrenados.\n",
    "\n",
    "Para esta prueba de concepto utilizaremos 10 documentos, que están guardados en la carpeta `capacitacion-digitalsense/clase3/documents`.\n",
    "\n",
    "La metodología a utilizar en este caso es simplemente pasar el texto como parte del prompt.\n",
    "\n"
   ]
  },
  {
   "cell_type": "code",
   "execution_count": 7,
   "metadata": {
    "collapsed": false,
    "gather": {
     "logged": 1726453642123
    },
    "jupyter": {
     "outputs_hidden": false,
     "source_hidden": false
    },
    "nteract": {
     "transient": {
      "deleting": false
     }
    }
   },
   "outputs": [],
   "source": [
    "# Cargamos los documentos a usar\n",
    "directory = \"../documents\"\n",
    "documents_list = ['document_0.txt', 'document_1.txt', 'document_2.txt', 'document_3.txt', 'document_4.txt', 'document_5.txt', \n",
    "'document_6.txt', 'document_7.txt', 'document_8.txt', 'document_9.txt', 'document_10.txt', 'document_11.txt']\n",
    "\n",
    "documents_dict = {}\n",
    "for doc in documents_list:\n",
    "    file_path = os.path.join(directory, doc)\n",
    "    with open(file_path, \"r\") as my_file:\n",
    "        documents_dict[doc[:-4]] = my_file.read()"
   ]
  },
  {
   "cell_type": "code",
   "execution_count": 8,
   "metadata": {
    "collapsed": false,
    "gather": {
     "logged": 1726453644600
    },
    "jupyter": {
     "outputs_hidden": false,
     "source_hidden": false
    },
    "nteract": {
     "transient": {
      "deleting": false
     }
    }
   },
   "outputs": [],
   "source": [
    "# Instrucción inicial\n",
    "prompt = \"Te van a dar información técnica acerca de un proceso y te van a hacer preguntas acerca de esa información. \"\\\n",
    "    \"Debes responder solo en base a la información que te proporcionaron. \"\\\n",
    "    \"En caso que te hagan una pregunta cuya respuesta no quede comprendida en la información provista, \"\\\n",
    "    \"responder que no contas con información para responder la pregunta. \"\\\n",
    "    \"Responder siempre en español. \"\\\n",
    "    \"Documentos: \"\n",
    "\n",
    "# Agregamos todos los documentos al prompt\n",
    "for i, doc in enumerate(documents_dict.values()):\n",
    "    prompt += \"Capítulo \"+str(i)+\": \" + doc\n",
    "\n",
    "# Visualizamos el prompt\n",
    "# print(prompt)"
   ]
  },
  {
   "cell_type": "code",
   "execution_count": 9,
   "metadata": {
    "collapsed": false,
    "gather": {
     "logged": 1726453649861
    },
    "jupyter": {
     "outputs_hidden": false,
     "source_hidden": false
    },
    "nteract": {
     "transient": {
      "deleting": false
     }
    }
   },
   "outputs": [
    {
     "name": "stdout",
     "output_type": "stream",
     "text": [
      "\u001b[1mUSER\u001b[0m: Que debe hacer el transportista en caso que detecte que las luces delanteras del vehículo no funcionan?\n",
      "\n",
      "\u001b[1mASSISTANT\u001b[0m: En caso de que el transportista detecte que las luces delanteras del vehículo no funcionan, debe repararlas antes de que oscurezca, o antes de realizar el próximo viaje si es durante el día. No está permitido circular con las luces delanteras no funcionales en horario nocturno. En caso de que sea necesario circular durante el día con las luces delanteras no funcionales, se debe hacerlo solo hasta encontrar un lugar seguro para detenerse y realizar la reparación.\n",
      "\n",
      "\n",
      " \u001b[1mCOSTO TOTAL DE LA CONVERSACIÓN\u001b[0m: 0.0044920\n"
     ]
    }
   ],
   "source": [
    "# Consultamos al modelo\n",
    "vanila_chatbot_with_documents = VanilaChatBot(prompt)\n",
    "vanila_chatbot_with_documents.chat(\n",
    "    \"Que debe hacer el transportista en caso que detecte que las luces delanteras del vehículo no funcionan?\"\n",
    ")"
   ]
  },
  {
   "cell_type": "markdown",
   "metadata": {
    "nteract": {
     "transient": {
      "deleting": false
     }
    }
   },
   "source": [
    "# 3) RAG\n",
    "\n",
    "Retrieval-Augmented Generation (RAG) es una técnica de procesamiento de lenguaje natural que combina modelos de recuperación de información y modelos generativos para mejorar la calidad de las respuestas generadas. En lugar de depender únicamente del conocimiento almacenado en el modelo generativo, RAG incorpora un mecanismo de recuperación que busca información relevante en una base de datos externa o corpus de documentos antes de generar una respuesta.\n",
    "\n",
    "En un flujo típico de RAG, cuando se recibe una consulta, el sistema primero recupera documentos o fragmentos relevantes del corpus. Luego, estos fragmentos se combinan con la consulta original y se pasan a un modelo generativo, como GPT, para generar una respuesta más informada y precisa. Esta combinación permite al modelo aprovechar información actualizada y específica, que puede no estar incluida en el entrenamiento del modelo generativo original. RAG es útil para tareas donde la precisión y la relevancia de la información son cruciales, como la respuesta a preguntas, el resumen de documentos y la generación de textos basados en datos externos."
   ]
  },
  {
   "cell_type": "markdown",
   "metadata": {
    "nteract": {
     "transient": {
      "deleting": false
     }
    }
   },
   "source": [
    "## ChromaDatabase\n",
    "\n",
    "En esta sección comenzaremos analizando la base de datos disponible y veremos los métodos existentes para la recuperación de documentos.\n",
    "\n",
    "Luego realizaremos un ejercicio donde se deberán hacer distintas consultas a la base de datos."
   ]
  },
  {
   "cell_type": "code",
   "execution_count": 10,
   "metadata": {
    "collapsed": false,
    "gather": {
     "logged": 1726453652708
    },
    "jupyter": {
     "outputs_hidden": false,
     "source_hidden": false
    },
    "nteract": {
     "transient": {
      "deleting": false
     }
    }
   },
   "outputs": [],
   "source": [
    "class ChromaDatabase:\n",
    "    def __init__(self):\n",
    "        \n",
    "        # Establecemos conexión con la base de datos\n",
    "        self.client_chroma = chromadb.PersistentClient(path=\"../chroma_db\")\n",
    "        # Definimos el modelo de embedding a utilizar\n",
    "        embedding_model = \"text-embedding-3-small\"\n",
    "        self.embedding_function = OpenAIEmbeddingFunction(api_key=OPENAI_API_KEY, model_name=embedding_model)\n",
    "\n",
    "    # Método para seleccionar la colección a utilizar\n",
    "    def get_collection(self, collection_name: str) -> Collection:\n",
    "        return self.client_chroma.get_collection(name=collection_name, embedding_function=self.embedding_function)\n",
    "    \n",
    "    def db_search(\n",
    "        self,\n",
    "        collection_name: Union[str, None] = None,\n",
    "        query: Union[str, None] = None,\n",
    "        max_results: int = 3,\n",
    "        condition: Union[dict, None] = None,\n",
    "        where_document: Union[dict, None] = None,\n",
    "    ) -> pd.DataFrame:\n",
    "        \n",
    "        if collection_name:\n",
    "            self.collection_name = collection_name\n",
    "        else:\n",
    "            self.collection_name = \"Montes_del_Plata\"\n",
    "        \n",
    "        collection = self.get_collection(self.collection_name)\n",
    "\n",
    "        if query:\n",
    "            df = self._check_and_pass(\n",
    "                    self._query_collection, \n",
    "                    query=query, \n",
    "                    collection=collection, \n",
    "                    max_results=max_results, \n",
    "                    condition=condition, \n",
    "                    where_document=where_document\n",
    "                )\n",
    "        else:\n",
    "            df = self._check_and_pass(\n",
    "                    self._get_from_collection,\n",
    "                    collection=collection,\n",
    "                    condition=condition, \n",
    "                    where_document=where_document\n",
    "                )\n",
    "\n",
    "        return df\n",
    "    \n",
    "    # Método para recuperar documentos a partir de una consulta\n",
    "    def _query_collection(\n",
    "        self, \n",
    "        query: str,\n",
    "        collection: chromadb.Collection, \n",
    "        max_results: int = 3,\n",
    "        condition: Union[dict, None] = None,\n",
    "        where_document: Union[dict, None] = None,\n",
    "    ) -> pd.DataFrame:\n",
    "        \n",
    "        if condition and where_document:\n",
    "            results = collection.query(query_texts=query, n_results=max_results, \n",
    "                                       where=condition, where_document=where_document,\n",
    "                                       include=[\"distances\", \"documents\", \"metadatas\"])\n",
    "        elif condition and not where_document:\n",
    "            results = collection.query(query_texts=query, n_results=max_results, \n",
    "                                       where=condition, include=[\"distances\", \"documents\", \"metadatas\"])\n",
    "        elif where_document and not condition:\n",
    "            results = collection.query(query_texts=query, n_results=max_results, where_document=where_document, \n",
    "                                       include=[\"distances\", \"documents\", \"metadatas\"])\n",
    "        else:\n",
    "            results = collection.query(query_texts=query, n_results=max_results,\n",
    "                                       include=[\"distances\", \"documents\", \"metadatas\"])\n",
    "        \n",
    "        df = self._generate_df_from_results_for_query(results)\n",
    "        return df\n",
    "    \n",
    "    # Método para recuperar documentos a partir de palabras contenidas en el texto\n",
    "    def _get_from_collection(\n",
    "        self,\n",
    "        collection: chromadb.Collection, \n",
    "        condition: Union[dict, None] = None,\n",
    "        where_document: Union[dict, None] = None,\n",
    "    ) -> pd.DataFrame:\n",
    "        \n",
    "        if condition and where_document:\n",
    "            results = collection.get(where=condition, where_document=where_document,\n",
    "                                    include=[\"documents\", \"metadatas\"])\n",
    "        elif condition and not where_document:\n",
    "            results = collection.get(where=condition, include=[\"documents\", \"metadatas\"])\n",
    "        elif where_document and not condition:\n",
    "            results = collection.get(where_document=where_document, include=[\"documents\", \"metadatas\"])\n",
    "        df = self._generate_df_from_results_for_get(results)\n",
    "        return df\n",
    "\n",
    "    def _check_and_pass(self, func, **kwargs):\n",
    "        # Filtra los argumentos con valor None y llama a la función func con el resto de argumentos\n",
    "        filtered_kwargs = {k: v for k, v in kwargs.items() if v is not None}\n",
    "        return func(**filtered_kwargs)\n",
    "\n",
    "    def _generate_df_from_results_for_query(self, results) -> pd.DataFrame:\n",
    "        df = pd.DataFrame({\n",
    "                \"id\"               : results[\"ids\"][0],\n",
    "                \"distancia\"        : results[\"distances\"][0],\n",
    "                \"contenido\"        : [doc for doc in results[\"documents\"][0]],\n",
    "                \"departamento\"     : [dict[\"departamento\"] for dict in results[\"metadatas\"][0]],\n",
    "                \"nombre_documento\" : [dict[\"nombre_documento\"] for dict in results[\"metadatas\"][0]],\n",
    "                \"capitulo\"         : [dict[\"capitulo\"] for dict in results[\"metadatas\"][0]]\n",
    "                })\n",
    "        return df\n",
    "    \n",
    "    def _generate_df_from_results_for_get(self, results) -> pd.DataFrame:\n",
    "        df = pd.DataFrame({\n",
    "                \"id\"               : results[\"ids\"],\n",
    "                \"contenido\"        : [doc for doc in results[\"documents\"]],\n",
    "                \"departamento\"     : [dict[\"departamento\"] for dict in results[\"metadatas\"]],\n",
    "                \"nombre_documento\" : [dict[\"nombre_documento\"] for dict in results[\"metadatas\"]],\n",
    "                \"capitulo\"         : [dict[\"capitulo\"] for dict in results[\"metadatas\"]]\n",
    "                })\n",
    "        return df"
   ]
  },
  {
   "cell_type": "code",
   "execution_count": 11,
   "metadata": {
    "collapsed": false,
    "gather": {
     "logged": 1726453657109
    },
    "jupyter": {
     "outputs_hidden": false,
     "source_hidden": false
    },
    "nteract": {
     "transient": {
      "deleting": false
     }
    }
   },
   "outputs": [
    {
     "data": {
      "text/plain": [
       "[Collection(id=e97c9ab4-4c0d-467f-80c8-02e1d948e120, name=Montes_del_Plata)]"
      ]
     },
     "execution_count": 11,
     "metadata": {},
     "output_type": "execute_result"
    }
   ],
   "source": [
    "# Creamos una instancia de la clase\n",
    "chroma_db = ChromaDatabase()\n",
    "\n",
    "# Chequeamos las colecciones que tiene disponible la base de datos\n",
    "chroma_db.client_chroma.list_collections()"
   ]
  },
  {
   "cell_type": "code",
   "execution_count": 12,
   "metadata": {
    "collapsed": false,
    "gather": {
     "logged": 1726453658600
    },
    "jupyter": {
     "outputs_hidden": false,
     "source_hidden": false
    },
    "nteract": {
     "transient": {
      "deleting": false
     }
    }
   },
   "outputs": [
    {
     "name": "stdout",
     "output_type": "stream",
     "text": [
      "Esta colección contiene 33 documentos.\n"
     ]
    }
   ],
   "source": [
    "# Seleccionamos la colección con la que queremos trabajar\n",
    "collection_name=\"Montes_del_Plata\"\n",
    "mdp_collection = chroma_db.get_collection(collection_name=collection_name)\n",
    "\n",
    "# Observamos la cantidad de datos que tiene la colección\n",
    "print(f\"Esta colección contiene {mdp_collection.count()} documentos.\")"
   ]
  },
  {
   "cell_type": "markdown",
   "metadata": {
    "nteract": {
     "transient": {
      "deleting": false
     }
    }
   },
   "source": [
    "## Ejercicio\n",
    "\n",
    "Realice una búsqueda en la base de datos para cada una de las siguientes consignas y muestre los resultados:\n",
    "\n",
    "1) La búsqueda se genera a partir de una consulta.\n",
    "\n",
    "2) La búsqueda se genera a partir de una consulta y además la metadata cumple una condición.\n",
    "\n",
    "3) Se deben buscar todos los documentos de la base de datos que contengan una palabra clave."
   ]
  },
  {
   "cell_type": "code",
   "execution_count": 13,
   "metadata": {
    "collapsed": false,
    "gather": {
     "logged": 1726453663800
    },
    "jupyter": {
     "outputs_hidden": false,
     "source_hidden": false
    },
    "nteract": {
     "transient": {
      "deleting": false
     }
    }
   },
   "outputs": [],
   "source": [
    "# Ejemplo de condiciones\n",
    "consulta = \"Que debe hacer el transportista en caso que detecte que las luces delanteras del vehículo no funcionan?\"\n",
    "\n",
    "condicion = {\n",
    "    \"departamento\": {\n",
    "        \"$eq\": \"Forestal\"\n",
    "    }\n",
    "}\n",
    "\n",
    "buscar_documento = {\n",
    "    \"$contains\": \"blanqueo\"\n",
    "}"
   ]
  },
  {
   "cell_type": "code",
   "execution_count": 14,
   "metadata": {
    "collapsed": false,
    "gather": {
     "logged": 1726453666716
    },
    "jupyter": {
     "outputs_hidden": false,
     "source_hidden": false
    },
    "nteract": {
     "transient": {
      "deleting": false
     }
    }
   },
   "outputs": [
    {
     "data": {
      "text/html": [
       "<div>\n",
       "<style scoped>\n",
       "    .dataframe tbody tr th:only-of-type {\n",
       "        vertical-align: middle;\n",
       "    }\n",
       "\n",
       "    .dataframe tbody tr th {\n",
       "        vertical-align: top;\n",
       "    }\n",
       "\n",
       "    .dataframe thead th {\n",
       "        text-align: right;\n",
       "    }\n",
       "</style>\n",
       "<table border=\"1\" class=\"dataframe\">\n",
       "  <thead>\n",
       "    <tr style=\"text-align: right;\">\n",
       "      <th></th>\n",
       "      <th>id</th>\n",
       "      <th>distancia</th>\n",
       "      <th>contenido</th>\n",
       "      <th>departamento</th>\n",
       "      <th>nombre_documento</th>\n",
       "      <th>capitulo</th>\n",
       "    </tr>\n",
       "  </thead>\n",
       "  <tbody>\n",
       "    <tr>\n",
       "      <th>0</th>\n",
       "      <td>5</td>\n",
       "      <td>0.430971</td>\n",
       "      <td>\\n5. SEGUIMIENTO Y CONTROL\\n5.1 Operaciones\\nEl control de las operaciones es responsabilidad del contratista. MdP realiza un control adicional por parte del Encargado y/o Supervisor de Transporte, con apoyo del Técnico SySO de MdP y por servicios contratados para tal fin, ya sea en la ruta o en los puntos de origen y destino de la carga. La información recabada se ingresa en el registro respectivo (ej. Datacenter), para procesamiento de datos y generación de estadísticas, indicadores de desempeño e historiales de cumplimiento.\\n\\n5.2 Incumplimientos\\nCon el fin de trabajar en la gestión de la seguridad del transporte, se definen las siguientes penalizaciones por incumplimientos del transportista en materia de seguridad:\\nPor cada omisión de reportar/informar un Accidente con Tiempo Perdido (ACTP) a la Central de Transporte de MdP en el plazo establecido en el Procedimiento de Investigación de Accidentes de MdP, el Transportista será pasible de una multa de hasta USD 3.000 por omis...</td>\n",
       "      <td>Forestal</td>\n",
       "      <td>P_LOGT_01: TRANSPORTE DE MADERA</td>\n",
       "      <td>5</td>\n",
       "    </tr>\n",
       "    <tr>\n",
       "      <th>1</th>\n",
       "      <td>3</td>\n",
       "      <td>0.488050</td>\n",
       "      <td>\\n3. LINEAMIENTOS GENERALES\\nEl área de Transporte planifica su actividad según los lineamientos establecidos en el P_Plan_01: Planeamiento Forestal:\\nPlan Estratégico de Transporte (PE) a largo plazo\\nPlan Táctico de Transporte (5 años)\\nPlan Operativo Mensual de Transporte (POA)\\n\\n3.1 Requerimientos documentales\\nPara poder realizar el servicio de transporte de madera, las empresas contratadas deben presentar documentación a MdP a fin de realizar los controles de la documentación legal laboral y registros del transportista, y la evaluación respectiva del mismo, asegurando el cumplimiento de las normativas legales y contractuales que le competen (ver también P_RH_03 Contratación y Evaluación de Contratistas Forestales), de acuerdo con los siguientes criterios:\\n\\nTransportista: Empresa\\nDocumentos:\\n- Certificado de empresa profesional de carga\\n- BPS: Certificados, recibos y consulta de actividad por empresa al día\\n- Certificado de DGI vigente\\n- Seguro y certificados al día (B...</td>\n",
       "      <td>Forestal</td>\n",
       "      <td>P_LOGT_01: TRANSPORTE DE MADERA</td>\n",
       "      <td>3</td>\n",
       "    </tr>\n",
       "    <tr>\n",
       "      <th>2</th>\n",
       "      <td>9</td>\n",
       "      <td>0.528077</td>\n",
       "      <td>\\n9. RESPONSABILIDADES\\nResponsables: Responsable Recursos Humanos o Responsable asignado\\nAcciones: Revisión de documentación legal (registros empresa transportista, legal-laboral, de inspección vehicular y circulación vial).\\nResponsables: Supervisor Transporte MdP \\nAcciones: Controlar las operaciones de transporte de madera\\nResponsables: Encargado de operaciones de transporte MdP\\nAcciones: Verificar el correcto funcionamiento de las unidades de transporte, el acondicionamiento de carga y las operaciones en campo.\\nResponsables: Técnico SySO\\nAcciones:\\nBrindar apoyo en el control de las actividades de carga, acondicionamiento de carga y elementos de seguridad de las unidades de transporte.\\nInvestigar causas de accidentes.\\n</td>\n",
       "      <td>Forestal</td>\n",
       "      <td>P_LOGT_01: TRANSPORTE DE MADERA</td>\n",
       "      <td>9</td>\n",
       "    </tr>\n",
       "  </tbody>\n",
       "</table>\n",
       "</div>"
      ],
      "text/plain": [
       "  id  distancia  \\\n",
       "0  5   0.430971   \n",
       "1  3   0.488050   \n",
       "2  9   0.528077   \n",
       "\n",
       "                                                                                                                                                                                                                                                                                                                                                                                                                                                                                                                                                                                                                                                                                                                                                                                                                                                                                                                                                                                                                                 contenido  \\\n",
       "0  \\n5. SEGUIMIENTO Y CONTROL\\n5.1 Operaciones\\nEl control de las operaciones es responsabilidad del contratista. MdP realiza un control adicional por parte del Encargado y/o Supervisor de Transporte, con apoyo del Técnico SySO de MdP y por servicios contratados para tal fin, ya sea en la ruta o en los puntos de origen y destino de la carga. La información recabada se ingresa en el registro respectivo (ej. Datacenter), para procesamiento de datos y generación de estadísticas, indicadores de desempeño e historiales de cumplimiento.\\n\\n5.2 Incumplimientos\\nCon el fin de trabajar en la gestión de la seguridad del transporte, se definen las siguientes penalizaciones por incumplimientos del transportista en materia de seguridad:\\nPor cada omisión de reportar/informar un Accidente con Tiempo Perdido (ACTP) a la Central de Transporte de MdP en el plazo establecido en el Procedimiento de Investigación de Accidentes de MdP, el Transportista será pasible de una multa de hasta USD 3.000 por omis...   \n",
       "1  \\n3. LINEAMIENTOS GENERALES\\nEl área de Transporte planifica su actividad según los lineamientos establecidos en el P_Plan_01: Planeamiento Forestal:\\nPlan Estratégico de Transporte (PE) a largo plazo\\nPlan Táctico de Transporte (5 años)\\nPlan Operativo Mensual de Transporte (POA)\\n\\n3.1 Requerimientos documentales\\nPara poder realizar el servicio de transporte de madera, las empresas contratadas deben presentar documentación a MdP a fin de realizar los controles de la documentación legal laboral y registros del transportista, y la evaluación respectiva del mismo, asegurando el cumplimiento de las normativas legales y contractuales que le competen (ver también P_RH_03 Contratación y Evaluación de Contratistas Forestales), de acuerdo con los siguientes criterios:\\n\\nTransportista: Empresa\\nDocumentos:\\n- Certificado de empresa profesional de carga\\n- BPS: Certificados, recibos y consulta de actividad por empresa al día\\n- Certificado de DGI vigente\\n- Seguro y certificados al día (B...   \n",
       "2                                                                                                                                                                                                                                                                     \\n9. RESPONSABILIDADES\\nResponsables: Responsable Recursos Humanos o Responsable asignado\\nAcciones: Revisión de documentación legal (registros empresa transportista, legal-laboral, de inspección vehicular y circulación vial).\\nResponsables: Supervisor Transporte MdP \\nAcciones: Controlar las operaciones de transporte de madera\\nResponsables: Encargado de operaciones de transporte MdP\\nAcciones: Verificar el correcto funcionamiento de las unidades de transporte, el acondicionamiento de carga y las operaciones en campo.\\nResponsables: Técnico SySO\\nAcciones:\\nBrindar apoyo en el control de las actividades de carga, acondicionamiento de carga y elementos de seguridad de las unidades de transporte.\\nInvestigar causas de accidentes.\\n   \n",
       "\n",
       "  departamento                 nombre_documento capitulo  \n",
       "0     Forestal  P_LOGT_01: TRANSPORTE DE MADERA        5  \n",
       "1     Forestal  P_LOGT_01: TRANSPORTE DE MADERA        3  \n",
       "2     Forestal  P_LOGT_01: TRANSPORTE DE MADERA        9  "
      ]
     },
     "execution_count": 14,
     "metadata": {},
     "output_type": "execute_result"
    }
   ],
   "source": [
    "# Solución 1\n",
    "df_consigna_uno = chroma_db.db_search(query=consulta, collection_name=collection_name)\n",
    "df_consigna_uno"
   ]
  },
  {
   "cell_type": "code",
   "execution_count": 15,
   "metadata": {
    "collapsed": false,
    "gather": {
     "logged": 1726453670727
    },
    "jupyter": {
     "outputs_hidden": false,
     "source_hidden": false
    },
    "nteract": {
     "transient": {
      "deleting": false
     }
    }
   },
   "outputs": [
    {
     "data": {
      "text/html": [
       "<div>\n",
       "<style scoped>\n",
       "    .dataframe tbody tr th:only-of-type {\n",
       "        vertical-align: middle;\n",
       "    }\n",
       "\n",
       "    .dataframe tbody tr th {\n",
       "        vertical-align: top;\n",
       "    }\n",
       "\n",
       "    .dataframe thead th {\n",
       "        text-align: right;\n",
       "    }\n",
       "</style>\n",
       "<table border=\"1\" class=\"dataframe\">\n",
       "  <thead>\n",
       "    <tr style=\"text-align: right;\">\n",
       "      <th></th>\n",
       "      <th>id</th>\n",
       "      <th>distancia</th>\n",
       "      <th>contenido</th>\n",
       "      <th>departamento</th>\n",
       "      <th>nombre_documento</th>\n",
       "      <th>capitulo</th>\n",
       "    </tr>\n",
       "  </thead>\n",
       "  <tbody>\n",
       "    <tr>\n",
       "      <th>0</th>\n",
       "      <td>5</td>\n",
       "      <td>0.430971</td>\n",
       "      <td>\\n5. SEGUIMIENTO Y CONTROL\\n5.1 Operaciones\\nEl control de las operaciones es responsabilidad del contratista. MdP realiza un control adicional por parte del Encargado y/o Supervisor de Transporte, con apoyo del Técnico SySO de MdP y por servicios contratados para tal fin, ya sea en la ruta o en los puntos de origen y destino de la carga. La información recabada se ingresa en el registro respectivo (ej. Datacenter), para procesamiento de datos y generación de estadísticas, indicadores de desempeño e historiales de cumplimiento.\\n\\n5.2 Incumplimientos\\nCon el fin de trabajar en la gestión de la seguridad del transporte, se definen las siguientes penalizaciones por incumplimientos del transportista en materia de seguridad:\\nPor cada omisión de reportar/informar un Accidente con Tiempo Perdido (ACTP) a la Central de Transporte de MdP en el plazo establecido en el Procedimiento de Investigación de Accidentes de MdP, el Transportista será pasible de una multa de hasta USD 3.000 por omis...</td>\n",
       "      <td>Forestal</td>\n",
       "      <td>P_LOGT_01: TRANSPORTE DE MADERA</td>\n",
       "      <td>5</td>\n",
       "    </tr>\n",
       "    <tr>\n",
       "      <th>1</th>\n",
       "      <td>3</td>\n",
       "      <td>0.488050</td>\n",
       "      <td>\\n3. LINEAMIENTOS GENERALES\\nEl área de Transporte planifica su actividad según los lineamientos establecidos en el P_Plan_01: Planeamiento Forestal:\\nPlan Estratégico de Transporte (PE) a largo plazo\\nPlan Táctico de Transporte (5 años)\\nPlan Operativo Mensual de Transporte (POA)\\n\\n3.1 Requerimientos documentales\\nPara poder realizar el servicio de transporte de madera, las empresas contratadas deben presentar documentación a MdP a fin de realizar los controles de la documentación legal laboral y registros del transportista, y la evaluación respectiva del mismo, asegurando el cumplimiento de las normativas legales y contractuales que le competen (ver también P_RH_03 Contratación y Evaluación de Contratistas Forestales), de acuerdo con los siguientes criterios:\\n\\nTransportista: Empresa\\nDocumentos:\\n- Certificado de empresa profesional de carga\\n- BPS: Certificados, recibos y consulta de actividad por empresa al día\\n- Certificado de DGI vigente\\n- Seguro y certificados al día (B...</td>\n",
       "      <td>Forestal</td>\n",
       "      <td>P_LOGT_01: TRANSPORTE DE MADERA</td>\n",
       "      <td>3</td>\n",
       "    </tr>\n",
       "    <tr>\n",
       "      <th>2</th>\n",
       "      <td>9</td>\n",
       "      <td>0.528077</td>\n",
       "      <td>\\n9. RESPONSABILIDADES\\nResponsables: Responsable Recursos Humanos o Responsable asignado\\nAcciones: Revisión de documentación legal (registros empresa transportista, legal-laboral, de inspección vehicular y circulación vial).\\nResponsables: Supervisor Transporte MdP \\nAcciones: Controlar las operaciones de transporte de madera\\nResponsables: Encargado de operaciones de transporte MdP\\nAcciones: Verificar el correcto funcionamiento de las unidades de transporte, el acondicionamiento de carga y las operaciones en campo.\\nResponsables: Técnico SySO\\nAcciones:\\nBrindar apoyo en el control de las actividades de carga, acondicionamiento de carga y elementos de seguridad de las unidades de transporte.\\nInvestigar causas de accidentes.\\n</td>\n",
       "      <td>Forestal</td>\n",
       "      <td>P_LOGT_01: TRANSPORTE DE MADERA</td>\n",
       "      <td>9</td>\n",
       "    </tr>\n",
       "  </tbody>\n",
       "</table>\n",
       "</div>"
      ],
      "text/plain": [
       "  id  distancia  \\\n",
       "0  5   0.430971   \n",
       "1  3   0.488050   \n",
       "2  9   0.528077   \n",
       "\n",
       "                                                                                                                                                                                                                                                                                                                                                                                                                                                                                                                                                                                                                                                                                                                                                                                                                                                                                                                                                                                                                                 contenido  \\\n",
       "0  \\n5. SEGUIMIENTO Y CONTROL\\n5.1 Operaciones\\nEl control de las operaciones es responsabilidad del contratista. MdP realiza un control adicional por parte del Encargado y/o Supervisor de Transporte, con apoyo del Técnico SySO de MdP y por servicios contratados para tal fin, ya sea en la ruta o en los puntos de origen y destino de la carga. La información recabada se ingresa en el registro respectivo (ej. Datacenter), para procesamiento de datos y generación de estadísticas, indicadores de desempeño e historiales de cumplimiento.\\n\\n5.2 Incumplimientos\\nCon el fin de trabajar en la gestión de la seguridad del transporte, se definen las siguientes penalizaciones por incumplimientos del transportista en materia de seguridad:\\nPor cada omisión de reportar/informar un Accidente con Tiempo Perdido (ACTP) a la Central de Transporte de MdP en el plazo establecido en el Procedimiento de Investigación de Accidentes de MdP, el Transportista será pasible de una multa de hasta USD 3.000 por omis...   \n",
       "1  \\n3. LINEAMIENTOS GENERALES\\nEl área de Transporte planifica su actividad según los lineamientos establecidos en el P_Plan_01: Planeamiento Forestal:\\nPlan Estratégico de Transporte (PE) a largo plazo\\nPlan Táctico de Transporte (5 años)\\nPlan Operativo Mensual de Transporte (POA)\\n\\n3.1 Requerimientos documentales\\nPara poder realizar el servicio de transporte de madera, las empresas contratadas deben presentar documentación a MdP a fin de realizar los controles de la documentación legal laboral y registros del transportista, y la evaluación respectiva del mismo, asegurando el cumplimiento de las normativas legales y contractuales que le competen (ver también P_RH_03 Contratación y Evaluación de Contratistas Forestales), de acuerdo con los siguientes criterios:\\n\\nTransportista: Empresa\\nDocumentos:\\n- Certificado de empresa profesional de carga\\n- BPS: Certificados, recibos y consulta de actividad por empresa al día\\n- Certificado de DGI vigente\\n- Seguro y certificados al día (B...   \n",
       "2                                                                                                                                                                                                                                                                     \\n9. RESPONSABILIDADES\\nResponsables: Responsable Recursos Humanos o Responsable asignado\\nAcciones: Revisión de documentación legal (registros empresa transportista, legal-laboral, de inspección vehicular y circulación vial).\\nResponsables: Supervisor Transporte MdP \\nAcciones: Controlar las operaciones de transporte de madera\\nResponsables: Encargado de operaciones de transporte MdP\\nAcciones: Verificar el correcto funcionamiento de las unidades de transporte, el acondicionamiento de carga y las operaciones en campo.\\nResponsables: Técnico SySO\\nAcciones:\\nBrindar apoyo en el control de las actividades de carga, acondicionamiento de carga y elementos de seguridad de las unidades de transporte.\\nInvestigar causas de accidentes.\\n   \n",
       "\n",
       "  departamento                 nombre_documento capitulo  \n",
       "0     Forestal  P_LOGT_01: TRANSPORTE DE MADERA        5  \n",
       "1     Forestal  P_LOGT_01: TRANSPORTE DE MADERA        3  \n",
       "2     Forestal  P_LOGT_01: TRANSPORTE DE MADERA        9  "
      ]
     },
     "execution_count": 15,
     "metadata": {},
     "output_type": "execute_result"
    }
   ],
   "source": [
    "# Solución 2\n",
    "df_consigna_dos = chroma_db.db_search(query=consulta, collection_name=collection_name, condition=condicion)\n",
    "df_consigna_dos"
   ]
  },
  {
   "cell_type": "code",
   "execution_count": 16,
   "metadata": {
    "collapsed": false,
    "gather": {
     "logged": 1726453673462
    },
    "jupyter": {
     "outputs_hidden": false,
     "source_hidden": false
    },
    "nteract": {
     "transient": {
      "deleting": false
     }
    }
   },
   "outputs": [
    {
     "data": {
      "text/html": [
       "<div>\n",
       "<style scoped>\n",
       "    .dataframe tbody tr th:only-of-type {\n",
       "        vertical-align: middle;\n",
       "    }\n",
       "\n",
       "    .dataframe tbody tr th {\n",
       "        vertical-align: top;\n",
       "    }\n",
       "\n",
       "    .dataframe thead th {\n",
       "        text-align: right;\n",
       "    }\n",
       "</style>\n",
       "<table border=\"1\" class=\"dataframe\">\n",
       "  <thead>\n",
       "    <tr style=\"text-align: right;\">\n",
       "      <th></th>\n",
       "      <th>id</th>\n",
       "      <th>contenido</th>\n",
       "      <th>departamento</th>\n",
       "      <th>nombre_documento</th>\n",
       "      <th>capitulo</th>\n",
       "    </tr>\n",
       "  </thead>\n",
       "  <tbody>\n",
       "    <tr>\n",
       "      <th>0</th>\n",
       "      <td>12</td>\n",
       "      <td>\\nInstrucciones de operación\\nde procesos\\nBlanqueo\\nMontes del Plata\\nReferencia D-02-811373-025\\nEstado: FINAL\\nFecha: 08-02-2013\\nAutor: N Littman\\n\\nDocumento confidencial. Reservados todos los derechos. No se permiten la duplicación ni la entrega a terceros sin la autorización escrita de ANDRITZ AG.\\n\\nCliente: Montes del Plata\\nNombre de la planta:  Montes del Plata\\n\\nContacto: ANDRITZ OY\\nDivisión: División de tecnologías de fibra \\n\\nResponsable de proyecto: Mikko Metso\\n\\nTeléfono: +358 (0)20 450 5555\\nFax: +358 (0)20 450 5540\\nCorreo electrónico: fiberline@andritz.com\\nwww.andritz.com\\n\\nÍNDICE\\n\\n1.\\tGENERALIDADES\\t4\\n2.\\tDATOS TÉCNICOS\\t5\\n2.1\\tEspecificaciones de las máquinas principales\\t5\\n2.2\\tDatos de operación del proceso principal\\t5\\n2.3\\tEquipos principales del proceso\\t6\\n2.3.1\\tRaspador de descarga de la torre de almacenamiento de pulpa sin blanquear\\t6\\n2.3.2\\tBombeo MC hacia la etapa Da\\t7\\n2.3.3\\tBombeo MC a otras etapas de blanqueo\\t9\\n2.3.4\\tMezcladores...</td>\n",
       "      <td>Planta</td>\n",
       "      <td>Instrucciones de operación de procesos: Blanqueo</td>\n",
       "      <td>0</td>\n",
       "    </tr>\n",
       "    <tr>\n",
       "      <th>1</th>\n",
       "      <td>13</td>\n",
       "      <td>\\n1. GENERALIDADES\\n\\nEste documento describe la operación del departamento de blanqueo. Para una operación segura y óptima es necesario seguir estas instrucciones. Los usuarios del proceso deben familiarizarse también con los siguientes documentos:\\n\\nDescripciones de procesos (documentos 1000-153-P40-105207)\\nPlanos funcionales (documentos 1000-153-I50-107080, 1000-153-I50-107081, 1000-153-I50-107082, 1000-153-I50-107083, 1000-153-I50-107084, 1000-153-I50-111589)\\nDiagramas de procesos e instrumentación (documentos 1000-153-P20-101450, 1000-153-P20-101451, 1000-153-P20-101452, 1000-153-P20-101453, 1000-153-P20-101454, 1000-153-P20-101455)\\nPlanos de disposición\\n\\nEn este documento, los equipos y conexiones del proceso se describen tal y como se utilizarán durante la puesta en marcha de la planta. Este manual de operación tiene como fin servir como material de capacitación para los operadores antes de la puesta en marcha. Más adelante, puede usarse como una introducción para nuev...</td>\n",
       "      <td>Planta</td>\n",
       "      <td>Instrucciones de operación de procesos: Blanqueo</td>\n",
       "      <td>1</td>\n",
       "    </tr>\n",
       "    <tr>\n",
       "      <th>2</th>\n",
       "      <td>14</td>\n",
       "      <td>\\n2. DATOS TÉCNICOS\\n\\nLas siguientes instrucciones de proceso describen el proceso de blanqueo Da-EP-D1-P, que forma parte del proceso de pulpado de la línea de fibra. El blanqueo en este documento comprende un área que comienza en el torre de almacenamiento de pulpa sin blanquear (153-21-001) y termina con el bombeo hacia la torre HD de pulpa blanqueada, 153-21-503. La depuración precede al blanqueo. Los procesos posteriores son el secado de la pulpa o la fabricación del papel. El lavador de gases de la planta de blanqueo también se describe en este documento.\\n\\nEsta descripción contiene información detallada de ingeniería y se usa junto con los diagramas de procesos e instrumentación y los planos funcionales para la ingeniería de control de procesos y para la configuración del sistema DCS de la planta.\\n\\n2.1 Especificaciones de las máquinas principales\\n\\nLas máquinas principales se especifican en las listas de equipos separadas.\\n\\n2.2 Datos de operación del proceso principal...</td>\n",
       "      <td>Planta</td>\n",
       "      <td>Instrucciones de operación de procesos: Blanqueo</td>\n",
       "      <td>2</td>\n",
       "    </tr>\n",
       "    <tr>\n",
       "      <th>3</th>\n",
       "      <td>15</td>\n",
       "      <td>\\n3. PUESTA EN MARCHA\\n\\n3.1 Operaciones antes de la puesta en marcha\\n\\n3.1.1 Generalidades\\n\\nEn este capítulo se definen las tareas que es necesario realizar antes de la puesta en marcha. Estas tareas preparatorias pueden y deben hacerse con la antelación suficiente para garantizar una puesta en marcha segura y protegida. Es necesario comprobar la situación mecánica, la electrificación y la instrumentación de la planta, así como garantizar la disponibilidad de los suministros. \\n\\nTras las tareas preparatorias, el departamento de blanqueo está preparado para ponerse en marcha de acuerdo con las condiciones de enclavamiento.\\n\\n3.1.2 Comprobaciones mecánicas\\n\\nAntes de la puesta en marcha, es necesario comprobar lo siguiente:\\nTodos los trabajos de reparación se completaron.\\nLas comprobaciones tras los trabajos de reparación se completaron.\\nLas escotillas de inspección de los tanques están cerradas y los tubos de rebose abiertos.\\nPlacas ciegas eliminadas.\\nBridas ciegas de le...</td>\n",
       "      <td>Planta</td>\n",
       "      <td>Instrucciones de operación de procesos: Blanqueo</td>\n",
       "      <td>3</td>\n",
       "    </tr>\n",
       "    <tr>\n",
       "      <th>4</th>\n",
       "      <td>16</td>\n",
       "      <td>\\n3.2 Puesta en marcha del sistema vacío\\n\\nAl poner en marcha un sistema vacío, se debe recordar que muchas tuberías pueden contener aire y que las líneas de vapor pueden contener condensado. Por tanto, las líneas de vapor deben ser presurizadas cuidadosamente y las tuberías deben llenarse primero con licor. \\n\\nAl poner en marcha un sistema de blanqueo vacío, se debe tener en cuenta que pueden existir diferencias de temperatura significativas, por ejemplo, en los lavadores DD. Por tanto, la temperatura de los lavadores DD debe ser elevada con agua templada antes de conducir pulpa caliente hacia ellos. Además, deben evitarse los choques térmicos también en otras partes del proceso; por ejemplo, no se debe alimentar vapor directo o agua caliente a las tuberías o los tanques que estén fríos.\\n\\nEl calentamiento de las torres de las etapas Da y D1 revestidas de cerámica debe realizarse lentamente. Una velocidad aceptable para este calentamiento sería de aproximadamente 5 °C/hora.\\n\\n...</td>\n",
       "      <td>Planta</td>\n",
       "      <td>Instrucciones de operación de procesos: Blanqueo</td>\n",
       "      <td>3</td>\n",
       "    </tr>\n",
       "    <tr>\n",
       "      <th>5</th>\n",
       "      <td>17</td>\n",
       "      <td>\\nLlenado de la torre de etapa D1 mediante la bomba MC de alimentación de etapa D1, 153-26-301 \\nPonga en marcha 153-26-418, bomba de filtrado más limpio de etapa P. La válvula 153-HI-0457 se abre en el modo AUTO.\\nPonga en marcha, 153-26-319, bomba de filtrado más sucio de etapa D1. La válvula 153-HI-0359 se abre en el modo AUTO.\\nPonga en marcha 153-26-318, bomba de filtrado más limpio de etapa D1. La válvula 153-HI-0358 se abre en el modo AUTO.\\nPonga en marcha 153-23-314, tornillo del lavador DD de etapa D1.\\n153-HI-0332, dilución hacia el tornillo del lavador DD de etapa D1, se libera y se abre si está en el modo AUTO con el ajuste del modo AUTO.\\nPonga en marcha 153-26-316, bomba de lavado del tambor del lavador DD de etapa D1. La válvula de cierre 153-HS-0334 se abre en el modo AUTO.\\nPonga en marcha 153-20-313, lavador DD de etapa D1.\\nLa señal de puesta en marcha de 153-20-313, lavador DD de etapa D1, cambia 153-HI-0360, agua de sellado hacia el lavador DD de etapa D1, al ...</td>\n",
       "      <td>Planta</td>\n",
       "      <td>Instrucciones de operación de procesos: Blanqueo</td>\n",
       "      <td>3</td>\n",
       "    </tr>\n",
       "    <tr>\n",
       "      <th>6</th>\n",
       "      <td>19</td>\n",
       "      <td>\\n3.2.3 Calentamiento de los lavadores DD  \\n\\nLos lavadores DD pueden ser calentados mediante la circulación de filtrado o agua caliente desde el tubo de soporte, a través de los reactores y hacia el lavador DD. Este calentamiento se realiza antes de que comience la alimentación de pulpa. Normalmente, los lavadores DD se calientan conjuntamente con los reactores y las torres. Los lavadores DD también pueden ser calentados mediante la alimentación con líquido a través de las tuberías de licor de lavado o a través de las boquillas de lavado de placa perforada. \\n\\nEl calentamiento de los lavadores DD y el llenado de los tanques de filtrado pueden combinarse. Los niveles de los tanques de filtrado pueden ajustarse durante el calentamiento en función de las necesidades. Durante el calentamiento, la válvula de drenaje del tubo de soporte permanece abierta para que una parte del licor de calentamiento vaya al desagüe.\\nVerifique que la distribución del agua caliente esté presurizada y q...</td>\n",
       "      <td>Planta</td>\n",
       "      <td>Instrucciones de operación de procesos: Blanqueo</td>\n",
       "      <td>3</td>\n",
       "    </tr>\n",
       "    <tr>\n",
       "      <th>7</th>\n",
       "      <td>20</td>\n",
       "      <td>\\nEtapa EP\\nAsegúrese de que el nivel 153-LIC-0255 del tanque de filtrado de etapa EP esté por encima del 50% y en el modo AUTO. \\nPonga en marcha 153-26-218, bomba de filtrado más limpio de etapa EP. La válvula 153-HI-0257 se abre en el modo AUTO.\\n\\nPonga en marcha 153-23-214, tornillo del lavador DD de la etapa EP.\\n153-HI-0232, dilución hacia el tornillo del lavador DD de la etapa EP se libera y se abre si está en el modo AUTO con el ajuste del modo AUTO.\\nPonga en marcha 153-26-116, bomba de lavado del tambor del lavador DD de etapa Da y EP. La válvula de cierre 153-HS-0234 se abre en el modo AUTO.\\nPonga en marcha 153-20-213, lavador DD de la etapa EP.\\nLa señal de puesta en marcha de 153-20-213, lavador DD de la etapa EP, cambia 153-HI-0260, agua de sellado hacia el lavador DD de etapa EP, al modo AUTO y la abre al 100%. El lavador DD de la etapa EP se pone en marcha cuando todos los interruptores de agua de sellado 153-FS-0261, 153-FS-0262, 153-FS-0263 y 153-FS-0264 están e...</td>\n",
       "      <td>Planta</td>\n",
       "      <td>Instrucciones de operación de procesos: Blanqueo</td>\n",
       "      <td>3</td>\n",
       "    </tr>\n",
       "    <tr>\n",
       "      <th>8</th>\n",
       "      <td>21</td>\n",
       "      <td>\\n3.2.5 Ciclo de pulpa\\n\\nCuando los departamentos de depuración y lavado post-oxígeno estén operando con pulpa, también el blanqueo comenzará a procesar pulpa gradualmente. La consistencia va aumentando de forma gradual durante el ciclo de pulpa. La consistencia hacia el blanqueo puede verse desde el bucle 153-QIC-2022, consistencia hacia la torre de etapa Da.\\n\\nCompruebe que todos los productos químicos, por ejemplo ácido sulfúrico, hidróxido de sodio, peróxido de hidrógeno, agua con dióxido de cloro y bisulfito de sodio estén disponibles desde la planta de productos químicos.\\n\\n3.2.6 Etapa Da\\n\\nCierre la válvula 153-EIC-0006, dilución hacia el raspador de la torre de almacenamiento de pulpa sin blanquear y cambie el bucle al modo REMOTO. La carga del motor del raspador de la torre de almacenamiento de pulpa sin blanquear aumenta cuando la consistencia aumenta y la válvula de dilución 153-EIC-0006 se abre cuando la carga del motor supera el ajuste. Por tanto, vigile la consist...</td>\n",
       "      <td>Planta</td>\n",
       "      <td>Instrucciones de operación de procesos: Blanqueo</td>\n",
       "      <td>3</td>\n",
       "    </tr>\n",
       "    <tr>\n",
       "      <th>9</th>\n",
       "      <td>22</td>\n",
       "      <td>\\n3.2.8 Etapa D1\\n\\nCambie los bucles de dilución de tubo de soporte de alimentación de etapa D1, 153-PIC-0278, al modo AUTO con ajustes adecuados. Las válvulas de dilución se abren para diluir la pulpa cuando aumente la consistencia.\\n\\nCambie el bucle 153-HS-0287, permiso de uso de productos químicos de etapa D1, a la posición «ON» cuando las condiciones de enclavamiento permitan realizar la selección.\\n\\nCambie el controlador de caudal de ácido sulfúrico 153-FIC-0283 al modo REMOTO y ajuste la carga química deseada en kg/tSa para este bucle. En la página de concentración de productos químicos en el sistema DCS, compruebe que se haya proporcionado un valor de concentración de productos químicos para el ácido sulfúrico al 98%. La válvula de aislamiento 153-HS-0285 se abre, si la salida del controlador de caudal de ácido sulfúrico 153-FIC-0283 es &gt; 10%. Si no se utiliza ácido sulfúrico para el control del pH, mantenga los bucles 153-FIC-0283 y 153-HS-0285 en el modo MAN y cerrados....</td>\n",
       "      <td>Planta</td>\n",
       "      <td>Instrucciones de operación de procesos: Blanqueo</td>\n",
       "      <td>3</td>\n",
       "    </tr>\n",
       "    <tr>\n",
       "      <th>10</th>\n",
       "      <td>23</td>\n",
       "      <td>\\n4. OPERACIÓN NORMAL\\n\\nLos procedimientos de la operación normal consisten en el control y la supervisión de la producción, la carga de productos químicos, la temperatura y el licor de lavado. Estos elementos se describen en los capítulos siguientes.\\n\\n4.1 Control de la producción\\n\\nLa producción de la planta de blanqueo se monitorea con el bucle 153-UI-0001, que calcula la producción basándose en el caudal medido hacia la etapa Da, 153-FIC-0005, y en la consistencia medida, 153-QIC-0022. Como alternativa, el operador puede indicar la consistencia utilizada para los cálculos de producción.\\n\\nLos retardos largos son típicos en el proceso de blanqueo. Estos retardos varían en las distintas etapas de blanqueo y van de los 80 minutos a las 2 horas. El tiempo de retención total de la pulpa en las torres de blanqueo operando a plena producción es de más de 6 horas. Debido a estos retardos largos, las medidas de control deben ser realizadas de forma razonada y el efecto real de cada ...</td>\n",
       "      <td>Planta</td>\n",
       "      <td>Instrucciones de operación de procesos: Blanqueo</td>\n",
       "      <td>4</td>\n",
       "    </tr>\n",
       "    <tr>\n",
       "      <th>11</th>\n",
       "      <td>24</td>\n",
       "      <td>\\n4.3 Control del licor de lavado\\n\\nA los lavadores DD de la planta de blanqueo llegan dos aguas de lavado diferentes. Un agua de lavado «más limpia» que se alimenta a la parte posterior del lavador y un agua de lavado «más sucia» que va hacia la parte delantera del lavador.\\n\\nEl control del caudal de agua de lavado está en el modo REMOTO basándose en una dosis de licor de lavado indicada por el operador (en m3/tSa) y la producción de blanqueo medida 153-UI-0001 (en tSa/d). \\n\\nEl operador indicará las dosis de agua de lavado específicas para cada bucle de control de agua de lavado en los lavadores DD.\\n\\n4.4 Lavadores DD\\n\\nPara mantener la consistencia de salida de los lavadores DD por encima del 10%, es importante mantener la presión de alimentación a cierto nivel, en función de la especie de madera, la temperatura y la consistencia de alimentación. Una presión de alimentación excesiva aumenta la presión del agua de lavado y el torque. También las fugas de agua de lavado desde...</td>\n",
       "      <td>Planta</td>\n",
       "      <td>Instrucciones de operación de procesos: Blanqueo</td>\n",
       "      <td>4</td>\n",
       "    </tr>\n",
       "    <tr>\n",
       "      <th>12</th>\n",
       "      <td>25</td>\n",
       "      <td>\\n5. PARADAS\\n\\n5.1 Generalidades\\n\\nCuando resulta necesario detener la planta de blanqueo, puede hacerse para un periodo breve o prolongado. La cantidad de medidas preparatorias, el número de máquinas a detener y el alcance de las actividades especiales de inspección y mantenimiento determinan la duración de la parada. \\n\\nLa parada de la planta de blanqueo se hace en el orden inverso a la puesta en marcha.\\nAntes de la parada, es necesario decidir qué cantidad de pulpa y filtrado debe dejarse en los tanques. Al tomar esta decisión, debe tomarse en cuenta la cantidad de trabajo a realizar durante la parada y el momento previsto de la siguiente puesta en marcha. Si no se recibieron instrucciones especiales para los tanques y las torres, el nivel de la torre de almacenamiento de pulpa sin blanquear se reduce hasta aproximadamente el 30-50%, las torres y los reactores se dejan llenos y los niveles de los tanques de filtrado se dejan a aproximadamente el 60%. Si se prevé drenar uno d...</td>\n",
       "      <td>Planta</td>\n",
       "      <td>Instrucciones de operación de procesos: Blanqueo</td>\n",
       "      <td>5</td>\n",
       "    </tr>\n",
       "    <tr>\n",
       "      <th>13</th>\n",
       "      <td>26</td>\n",
       "      <td>\\nEtapa D1\\nDiluya el tubo de soporte de alimentación de la etapa D1 y el tubo de alimentación de pulpa hacia la torre de etapa D1.\\nCambie el bucle de dilución de tubo de soporte de alimentación de etapa D1, 153-PIC-0278 al modo MAN y abra la válvula al 50-100%. Diluya el tubo de soporte durante un tiempo breve, aproximadamente 3–5 minutos.\\nCambie el bucle 153-HS-0287, permiso de productos químicos de la etapa D1, a la posición «OFF».\\nLas válvulas de ácido sulfúrico 153-HS-0285 y 153-FIC-0283 se cierran.\\nLas válvulas de agua de dióxido de cloro 153-HS-0293 y 153-FIC-0292 se cierran.\\nLa válvula de control de bisulfito de sodio 153-FIC-0284 se cierra.\\nDetenga 153-26-301, bomba MC de alimentación a etapa D1.\\nEl control de nivel 153-LIC-0277 se cierra.\\nLa válvula de mezclador de etapa D1, 153-HS-0291, se cierra.\\nDetenga el mezclador de etapa D1 153-20-303.\\n\\nEl raspador superior de la torre de etapa D1, 153-20-305, se mantiene siempre en funcionamiento durante las paradas bre...</td>\n",
       "      <td>Planta</td>\n",
       "      <td>Instrucciones de operación de procesos: Blanqueo</td>\n",
       "      <td>5</td>\n",
       "    </tr>\n",
       "    <tr>\n",
       "      <th>14</th>\n",
       "      <td>27</td>\n",
       "      <td>\\n5.3 Paradas prolongadas\\n\\nLa planta de blanqueo se drena de pulpa parcial o completamente sólo para las paradas prolongadas en las que se prevea realizar trabajos de reparación o mantenimiento en los reactores, las torres y los tanques de blanqueo.\\nTras una parada prolongada, es posible que la nueva puesta en marcha de la planta deba ser realizada en una situación en la que una parte de la maquinaria ha sido sometida a una inspección periódica o trabajos de mantenimiento. Una parte de las torres, los tanques de filtrado y los tubos de soporte han sido vaciados. Las tuberías pueden contener aire, gases, vapores o agua, además de las sustancias normales del flujo del proceso.\\n\\nEl drenaje de las torres y los reactores debe realizarse siempre desplazando la pulpa de los recipientes antes de detener el bombeo de la pulpa hacia la etapa siguiente.\\n\\nTorre de almacenamiento de pulpa sin blanquear\\nEn primer lugar, detenga la depuración y el lavado post-oxígeno y a continuación dete...</td>\n",
       "      <td>Planta</td>\n",
       "      <td>Instrucciones de operación de procesos: Blanqueo</td>\n",
       "      <td>5</td>\n",
       "    </tr>\n",
       "    <tr>\n",
       "      <th>15</th>\n",
       "      <td>29</td>\n",
       "      <td>\\n6. SEGURIDAD\\n\\n6.1 Seguridad general\\n\\n6.1.1 Productos químicos\\n\\nLa seguridad personal debe tomarse en cuenta cuando se manejan los productos químicos.\\n\\nEl producto químico utilizado en la cocción es el licor blanco. Además, en el proceso se forman monóxido de carbono y compuestos sulfurosos gaseosos y se liberan especialmente en el área del tanque de descarga. Ejemplos de estos compuestos son el sulfuro de hidrógeno, el metil mercaptano, el dimetil sulfuro y el dimetil disulfuro, que también se forman al agregar ácido al licor negro.\\n\\nLos productos químicos utilizados en el blanqueo con oxígeno son el licor blanco oxidado, el hidróxido de sodio y el oxígeno. Además de estas sustancias, en el proceso se forman monóxido de carbono y metanol, que se liberan especialmente en el área del tanque de descarga.\\n\\nLos productos químicos usados en la planta de oxidación de licor blanco son el licor blanco y el oxígeno. \\nLos productos químicos utilizados en el blanqueo son el dióx...</td>\n",
       "      <td>Planta</td>\n",
       "      <td>Instrucciones de operación de procesos: Blanqueo</td>\n",
       "      <td>6</td>\n",
       "    </tr>\n",
       "    <tr>\n",
       "      <th>16</th>\n",
       "      <td>30</td>\n",
       "      <td>\\nPeróxido de hidrógeno \\nLa concentración del peróxido de hidrógeno (H2O2) suministrado a la planta de blanqueo es del 30–50%. El peróxido de hidrógeno concentrado presenta fuertes propiedades oxidantes; es transparente e incoloro y tiene olor acre. Se trata de un compuesto no inflamable pero inestable. La descomposición del peróxido de hidrógeno libera oxígeno.\\nEl peróxido de hidrógeno se descompone rápidamente al contacto con la mayoría de los metales, las sales metálicas, el aceite, la grasa o la suciedad. El peróxido de hidrógeno con una concentración superior al 30% puede provocar la ignición de varias sustancias orgánicas, tales como el cuero, el aceite o la grasa. Si el aire contiene más de un 25% de peróxido de hidrógeno, la mezcla es explosiva.\\nDebido a su tendencia a descomponerse, en el caso del peróxido de hidrógeno debe preverse siempre su posible expansión, por ejemplo a través de una válvula de alivio presente en la tubería.\\nEl contacto con las soluciones del per...</td>\n",
       "      <td>Planta</td>\n",
       "      <td>Instrucciones de operación de procesos: Blanqueo</td>\n",
       "      <td>6</td>\n",
       "    </tr>\n",
       "    <tr>\n",
       "      <th>17</th>\n",
       "      <td>32</td>\n",
       "      <td>\\n7. SEGURIDAD DEL DEPARTAMENTO DE BLANQUEO\\n\\n7.1 Seguridad de los equipos\\n\\nLas presiones de diseño de los equipos son:\\nFiltro de fibra: 10 bar\\n\\n7.1.1 Válvulas con retorno de muelle\\n\\nAlgunas válvulas están dotadas de un sistema de retorno con muelle para las posibles perturbaciones de la distribución de aire de instrumentos. Estas válvulas se cierran o abren cuando la presión de aire de instrumentos desaparece.\\n\\nEn el blanqueo, las siguientes válvulas están equipadas con un actuador de acción inversa (cierre por resorte):\\n153-PIC-0067, vapor de media presión a la torre de almacenamiento de pulpa sin blanquear\\n153-FIC-0015, bisulfito de sodio a la torre de etapa Da\\n153-HS-0017, ácido sulfúrico a la etapa Da\\n153-HS-0025, cierre 1 de mezclador de etapa Da\\n153-HS-0027, dióxido de cloro al mezclador de etapa Da\\n153-HS-0101, válvula 1 de pulpa a lavador DD de etapa Da\\n153-HS-0102, válvula 2 de pulpa a lavador DD de etapa Da\\n153-HS-0031, filtrado EP a calentador de ClO2\\...</td>\n",
       "      <td>Planta</td>\n",
       "      <td>Instrucciones de operación de procesos: Blanqueo</td>\n",
       "      <td>7</td>\n",
       "    </tr>\n",
       "  </tbody>\n",
       "</table>\n",
       "</div>"
      ],
      "text/plain": [
       "    id  \\\n",
       "0   12   \n",
       "1   13   \n",
       "2   14   \n",
       "3   15   \n",
       "4   16   \n",
       "5   17   \n",
       "6   19   \n",
       "7   20   \n",
       "8   21   \n",
       "9   22   \n",
       "10  23   \n",
       "11  24   \n",
       "12  25   \n",
       "13  26   \n",
       "14  27   \n",
       "15  29   \n",
       "16  30   \n",
       "17  32   \n",
       "\n",
       "                                                                                                                                                                                                                                                                                                                                                                                                                                                                                                                                                                                                                                                                                                                                                                                                                                                                                                                                                                                                                                  contenido  \\\n",
       "0   \\nInstrucciones de operación\\nde procesos\\nBlanqueo\\nMontes del Plata\\nReferencia D-02-811373-025\\nEstado: FINAL\\nFecha: 08-02-2013\\nAutor: N Littman\\n\\nDocumento confidencial. Reservados todos los derechos. No se permiten la duplicación ni la entrega a terceros sin la autorización escrita de ANDRITZ AG.\\n\\nCliente: Montes del Plata\\nNombre de la planta:  Montes del Plata\\n\\nContacto: ANDRITZ OY\\nDivisión: División de tecnologías de fibra \\n\\nResponsable de proyecto: Mikko Metso\\n\\nTeléfono: +358 (0)20 450 5555\\nFax: +358 (0)20 450 5540\\nCorreo electrónico: fiberline@andritz.com\\nwww.andritz.com\\n\\nÍNDICE\\n\\n1.\\tGENERALIDADES\\t4\\n2.\\tDATOS TÉCNICOS\\t5\\n2.1\\tEspecificaciones de las máquinas principales\\t5\\n2.2\\tDatos de operación del proceso principal\\t5\\n2.3\\tEquipos principales del proceso\\t6\\n2.3.1\\tRaspador de descarga de la torre de almacenamiento de pulpa sin blanquear\\t6\\n2.3.2\\tBombeo MC hacia la etapa Da\\t7\\n2.3.3\\tBombeo MC a otras etapas de blanqueo\\t9\\n2.3.4\\tMezcladores...   \n",
       "1   \\n1. GENERALIDADES\\n\\nEste documento describe la operación del departamento de blanqueo. Para una operación segura y óptima es necesario seguir estas instrucciones. Los usuarios del proceso deben familiarizarse también con los siguientes documentos:\\n\\nDescripciones de procesos (documentos 1000-153-P40-105207)\\nPlanos funcionales (documentos 1000-153-I50-107080, 1000-153-I50-107081, 1000-153-I50-107082, 1000-153-I50-107083, 1000-153-I50-107084, 1000-153-I50-111589)\\nDiagramas de procesos e instrumentación (documentos 1000-153-P20-101450, 1000-153-P20-101451, 1000-153-P20-101452, 1000-153-P20-101453, 1000-153-P20-101454, 1000-153-P20-101455)\\nPlanos de disposición\\n\\nEn este documento, los equipos y conexiones del proceso se describen tal y como se utilizarán durante la puesta en marcha de la planta. Este manual de operación tiene como fin servir como material de capacitación para los operadores antes de la puesta en marcha. Más adelante, puede usarse como una introducción para nuev...   \n",
       "2   \\n2. DATOS TÉCNICOS\\n\\nLas siguientes instrucciones de proceso describen el proceso de blanqueo Da-EP-D1-P, que forma parte del proceso de pulpado de la línea de fibra. El blanqueo en este documento comprende un área que comienza en el torre de almacenamiento de pulpa sin blanquear (153-21-001) y termina con el bombeo hacia la torre HD de pulpa blanqueada, 153-21-503. La depuración precede al blanqueo. Los procesos posteriores son el secado de la pulpa o la fabricación del papel. El lavador de gases de la planta de blanqueo también se describe en este documento.\\n\\nEsta descripción contiene información detallada de ingeniería y se usa junto con los diagramas de procesos e instrumentación y los planos funcionales para la ingeniería de control de procesos y para la configuración del sistema DCS de la planta.\\n\\n2.1 Especificaciones de las máquinas principales\\n\\nLas máquinas principales se especifican en las listas de equipos separadas.\\n\\n2.2 Datos de operación del proceso principal...   \n",
       "3   \\n3. PUESTA EN MARCHA\\n\\n3.1 Operaciones antes de la puesta en marcha\\n\\n3.1.1 Generalidades\\n\\nEn este capítulo se definen las tareas que es necesario realizar antes de la puesta en marcha. Estas tareas preparatorias pueden y deben hacerse con la antelación suficiente para garantizar una puesta en marcha segura y protegida. Es necesario comprobar la situación mecánica, la electrificación y la instrumentación de la planta, así como garantizar la disponibilidad de los suministros. \\n\\nTras las tareas preparatorias, el departamento de blanqueo está preparado para ponerse en marcha de acuerdo con las condiciones de enclavamiento.\\n\\n3.1.2 Comprobaciones mecánicas\\n\\nAntes de la puesta en marcha, es necesario comprobar lo siguiente:\\nTodos los trabajos de reparación se completaron.\\nLas comprobaciones tras los trabajos de reparación se completaron.\\nLas escotillas de inspección de los tanques están cerradas y los tubos de rebose abiertos.\\nPlacas ciegas eliminadas.\\nBridas ciegas de le...   \n",
       "4   \\n3.2 Puesta en marcha del sistema vacío\\n\\nAl poner en marcha un sistema vacío, se debe recordar que muchas tuberías pueden contener aire y que las líneas de vapor pueden contener condensado. Por tanto, las líneas de vapor deben ser presurizadas cuidadosamente y las tuberías deben llenarse primero con licor. \\n\\nAl poner en marcha un sistema de blanqueo vacío, se debe tener en cuenta que pueden existir diferencias de temperatura significativas, por ejemplo, en los lavadores DD. Por tanto, la temperatura de los lavadores DD debe ser elevada con agua templada antes de conducir pulpa caliente hacia ellos. Además, deben evitarse los choques térmicos también en otras partes del proceso; por ejemplo, no se debe alimentar vapor directo o agua caliente a las tuberías o los tanques que estén fríos.\\n\\nEl calentamiento de las torres de las etapas Da y D1 revestidas de cerámica debe realizarse lentamente. Una velocidad aceptable para este calentamiento sería de aproximadamente 5 °C/hora.\\n\\n...   \n",
       "5   \\nLlenado de la torre de etapa D1 mediante la bomba MC de alimentación de etapa D1, 153-26-301 \\nPonga en marcha 153-26-418, bomba de filtrado más limpio de etapa P. La válvula 153-HI-0457 se abre en el modo AUTO.\\nPonga en marcha, 153-26-319, bomba de filtrado más sucio de etapa D1. La válvula 153-HI-0359 se abre en el modo AUTO.\\nPonga en marcha 153-26-318, bomba de filtrado más limpio de etapa D1. La válvula 153-HI-0358 se abre en el modo AUTO.\\nPonga en marcha 153-23-314, tornillo del lavador DD de etapa D1.\\n153-HI-0332, dilución hacia el tornillo del lavador DD de etapa D1, se libera y se abre si está en el modo AUTO con el ajuste del modo AUTO.\\nPonga en marcha 153-26-316, bomba de lavado del tambor del lavador DD de etapa D1. La válvula de cierre 153-HS-0334 se abre en el modo AUTO.\\nPonga en marcha 153-20-313, lavador DD de etapa D1.\\nLa señal de puesta en marcha de 153-20-313, lavador DD de etapa D1, cambia 153-HI-0360, agua de sellado hacia el lavador DD de etapa D1, al ...   \n",
       "6   \\n3.2.3 Calentamiento de los lavadores DD  \\n\\nLos lavadores DD pueden ser calentados mediante la circulación de filtrado o agua caliente desde el tubo de soporte, a través de los reactores y hacia el lavador DD. Este calentamiento se realiza antes de que comience la alimentación de pulpa. Normalmente, los lavadores DD se calientan conjuntamente con los reactores y las torres. Los lavadores DD también pueden ser calentados mediante la alimentación con líquido a través de las tuberías de licor de lavado o a través de las boquillas de lavado de placa perforada. \\n\\nEl calentamiento de los lavadores DD y el llenado de los tanques de filtrado pueden combinarse. Los niveles de los tanques de filtrado pueden ajustarse durante el calentamiento en función de las necesidades. Durante el calentamiento, la válvula de drenaje del tubo de soporte permanece abierta para que una parte del licor de calentamiento vaya al desagüe.\\nVerifique que la distribución del agua caliente esté presurizada y q...   \n",
       "7   \\nEtapa EP\\nAsegúrese de que el nivel 153-LIC-0255 del tanque de filtrado de etapa EP esté por encima del 50% y en el modo AUTO. \\nPonga en marcha 153-26-218, bomba de filtrado más limpio de etapa EP. La válvula 153-HI-0257 se abre en el modo AUTO.\\n\\nPonga en marcha 153-23-214, tornillo del lavador DD de la etapa EP.\\n153-HI-0232, dilución hacia el tornillo del lavador DD de la etapa EP se libera y se abre si está en el modo AUTO con el ajuste del modo AUTO.\\nPonga en marcha 153-26-116, bomba de lavado del tambor del lavador DD de etapa Da y EP. La válvula de cierre 153-HS-0234 se abre en el modo AUTO.\\nPonga en marcha 153-20-213, lavador DD de la etapa EP.\\nLa señal de puesta en marcha de 153-20-213, lavador DD de la etapa EP, cambia 153-HI-0260, agua de sellado hacia el lavador DD de etapa EP, al modo AUTO y la abre al 100%. El lavador DD de la etapa EP se pone en marcha cuando todos los interruptores de agua de sellado 153-FS-0261, 153-FS-0262, 153-FS-0263 y 153-FS-0264 están e...   \n",
       "8   \\n3.2.5 Ciclo de pulpa\\n\\nCuando los departamentos de depuración y lavado post-oxígeno estén operando con pulpa, también el blanqueo comenzará a procesar pulpa gradualmente. La consistencia va aumentando de forma gradual durante el ciclo de pulpa. La consistencia hacia el blanqueo puede verse desde el bucle 153-QIC-2022, consistencia hacia la torre de etapa Da.\\n\\nCompruebe que todos los productos químicos, por ejemplo ácido sulfúrico, hidróxido de sodio, peróxido de hidrógeno, agua con dióxido de cloro y bisulfito de sodio estén disponibles desde la planta de productos químicos.\\n\\n3.2.6 Etapa Da\\n\\nCierre la válvula 153-EIC-0006, dilución hacia el raspador de la torre de almacenamiento de pulpa sin blanquear y cambie el bucle al modo REMOTO. La carga del motor del raspador de la torre de almacenamiento de pulpa sin blanquear aumenta cuando la consistencia aumenta y la válvula de dilución 153-EIC-0006 se abre cuando la carga del motor supera el ajuste. Por tanto, vigile la consist...   \n",
       "9   \\n3.2.8 Etapa D1\\n\\nCambie los bucles de dilución de tubo de soporte de alimentación de etapa D1, 153-PIC-0278, al modo AUTO con ajustes adecuados. Las válvulas de dilución se abren para diluir la pulpa cuando aumente la consistencia.\\n\\nCambie el bucle 153-HS-0287, permiso de uso de productos químicos de etapa D1, a la posición «ON» cuando las condiciones de enclavamiento permitan realizar la selección.\\n\\nCambie el controlador de caudal de ácido sulfúrico 153-FIC-0283 al modo REMOTO y ajuste la carga química deseada en kg/tSa para este bucle. En la página de concentración de productos químicos en el sistema DCS, compruebe que se haya proporcionado un valor de concentración de productos químicos para el ácido sulfúrico al 98%. La válvula de aislamiento 153-HS-0285 se abre, si la salida del controlador de caudal de ácido sulfúrico 153-FIC-0283 es > 10%. Si no se utiliza ácido sulfúrico para el control del pH, mantenga los bucles 153-FIC-0283 y 153-HS-0285 en el modo MAN y cerrados....   \n",
       "10  \\n4. OPERACIÓN NORMAL\\n\\nLos procedimientos de la operación normal consisten en el control y la supervisión de la producción, la carga de productos químicos, la temperatura y el licor de lavado. Estos elementos se describen en los capítulos siguientes.\\n\\n4.1 Control de la producción\\n\\nLa producción de la planta de blanqueo se monitorea con el bucle 153-UI-0001, que calcula la producción basándose en el caudal medido hacia la etapa Da, 153-FIC-0005, y en la consistencia medida, 153-QIC-0022. Como alternativa, el operador puede indicar la consistencia utilizada para los cálculos de producción.\\n\\nLos retardos largos son típicos en el proceso de blanqueo. Estos retardos varían en las distintas etapas de blanqueo y van de los 80 minutos a las 2 horas. El tiempo de retención total de la pulpa en las torres de blanqueo operando a plena producción es de más de 6 horas. Debido a estos retardos largos, las medidas de control deben ser realizadas de forma razonada y el efecto real de cada ...   \n",
       "11  \\n4.3 Control del licor de lavado\\n\\nA los lavadores DD de la planta de blanqueo llegan dos aguas de lavado diferentes. Un agua de lavado «más limpia» que se alimenta a la parte posterior del lavador y un agua de lavado «más sucia» que va hacia la parte delantera del lavador.\\n\\nEl control del caudal de agua de lavado está en el modo REMOTO basándose en una dosis de licor de lavado indicada por el operador (en m3/tSa) y la producción de blanqueo medida 153-UI-0001 (en tSa/d). \\n\\nEl operador indicará las dosis de agua de lavado específicas para cada bucle de control de agua de lavado en los lavadores DD.\\n\\n4.4 Lavadores DD\\n\\nPara mantener la consistencia de salida de los lavadores DD por encima del 10%, es importante mantener la presión de alimentación a cierto nivel, en función de la especie de madera, la temperatura y la consistencia de alimentación. Una presión de alimentación excesiva aumenta la presión del agua de lavado y el torque. También las fugas de agua de lavado desde...   \n",
       "12  \\n5. PARADAS\\n\\n5.1 Generalidades\\n\\nCuando resulta necesario detener la planta de blanqueo, puede hacerse para un periodo breve o prolongado. La cantidad de medidas preparatorias, el número de máquinas a detener y el alcance de las actividades especiales de inspección y mantenimiento determinan la duración de la parada. \\n\\nLa parada de la planta de blanqueo se hace en el orden inverso a la puesta en marcha.\\nAntes de la parada, es necesario decidir qué cantidad de pulpa y filtrado debe dejarse en los tanques. Al tomar esta decisión, debe tomarse en cuenta la cantidad de trabajo a realizar durante la parada y el momento previsto de la siguiente puesta en marcha. Si no se recibieron instrucciones especiales para los tanques y las torres, el nivel de la torre de almacenamiento de pulpa sin blanquear se reduce hasta aproximadamente el 30-50%, las torres y los reactores se dejan llenos y los niveles de los tanques de filtrado se dejan a aproximadamente el 60%. Si se prevé drenar uno d...   \n",
       "13  \\nEtapa D1\\nDiluya el tubo de soporte de alimentación de la etapa D1 y el tubo de alimentación de pulpa hacia la torre de etapa D1.\\nCambie el bucle de dilución de tubo de soporte de alimentación de etapa D1, 153-PIC-0278 al modo MAN y abra la válvula al 50-100%. Diluya el tubo de soporte durante un tiempo breve, aproximadamente 3–5 minutos.\\nCambie el bucle 153-HS-0287, permiso de productos químicos de la etapa D1, a la posición «OFF».\\nLas válvulas de ácido sulfúrico 153-HS-0285 y 153-FIC-0283 se cierran.\\nLas válvulas de agua de dióxido de cloro 153-HS-0293 y 153-FIC-0292 se cierran.\\nLa válvula de control de bisulfito de sodio 153-FIC-0284 se cierra.\\nDetenga 153-26-301, bomba MC de alimentación a etapa D1.\\nEl control de nivel 153-LIC-0277 se cierra.\\nLa válvula de mezclador de etapa D1, 153-HS-0291, se cierra.\\nDetenga el mezclador de etapa D1 153-20-303.\\n\\nEl raspador superior de la torre de etapa D1, 153-20-305, se mantiene siempre en funcionamiento durante las paradas bre...   \n",
       "14  \\n5.3 Paradas prolongadas\\n\\nLa planta de blanqueo se drena de pulpa parcial o completamente sólo para las paradas prolongadas en las que se prevea realizar trabajos de reparación o mantenimiento en los reactores, las torres y los tanques de blanqueo.\\nTras una parada prolongada, es posible que la nueva puesta en marcha de la planta deba ser realizada en una situación en la que una parte de la maquinaria ha sido sometida a una inspección periódica o trabajos de mantenimiento. Una parte de las torres, los tanques de filtrado y los tubos de soporte han sido vaciados. Las tuberías pueden contener aire, gases, vapores o agua, además de las sustancias normales del flujo del proceso.\\n\\nEl drenaje de las torres y los reactores debe realizarse siempre desplazando la pulpa de los recipientes antes de detener el bombeo de la pulpa hacia la etapa siguiente.\\n\\nTorre de almacenamiento de pulpa sin blanquear\\nEn primer lugar, detenga la depuración y el lavado post-oxígeno y a continuación dete...   \n",
       "15  \\n6. SEGURIDAD\\n\\n6.1 Seguridad general\\n\\n6.1.1 Productos químicos\\n\\nLa seguridad personal debe tomarse en cuenta cuando se manejan los productos químicos.\\n\\nEl producto químico utilizado en la cocción es el licor blanco. Además, en el proceso se forman monóxido de carbono y compuestos sulfurosos gaseosos y se liberan especialmente en el área del tanque de descarga. Ejemplos de estos compuestos son el sulfuro de hidrógeno, el metil mercaptano, el dimetil sulfuro y el dimetil disulfuro, que también se forman al agregar ácido al licor negro.\\n\\nLos productos químicos utilizados en el blanqueo con oxígeno son el licor blanco oxidado, el hidróxido de sodio y el oxígeno. Además de estas sustancias, en el proceso se forman monóxido de carbono y metanol, que se liberan especialmente en el área del tanque de descarga.\\n\\nLos productos químicos usados en la planta de oxidación de licor blanco son el licor blanco y el oxígeno. \\nLos productos químicos utilizados en el blanqueo son el dióx...   \n",
       "16  \\nPeróxido de hidrógeno \\nLa concentración del peróxido de hidrógeno (H2O2) suministrado a la planta de blanqueo es del 30–50%. El peróxido de hidrógeno concentrado presenta fuertes propiedades oxidantes; es transparente e incoloro y tiene olor acre. Se trata de un compuesto no inflamable pero inestable. La descomposición del peróxido de hidrógeno libera oxígeno.\\nEl peróxido de hidrógeno se descompone rápidamente al contacto con la mayoría de los metales, las sales metálicas, el aceite, la grasa o la suciedad. El peróxido de hidrógeno con una concentración superior al 30% puede provocar la ignición de varias sustancias orgánicas, tales como el cuero, el aceite o la grasa. Si el aire contiene más de un 25% de peróxido de hidrógeno, la mezcla es explosiva.\\nDebido a su tendencia a descomponerse, en el caso del peróxido de hidrógeno debe preverse siempre su posible expansión, por ejemplo a través de una válvula de alivio presente en la tubería.\\nEl contacto con las soluciones del per...   \n",
       "17  \\n7. SEGURIDAD DEL DEPARTAMENTO DE BLANQUEO\\n\\n7.1 Seguridad de los equipos\\n\\nLas presiones de diseño de los equipos son:\\nFiltro de fibra: 10 bar\\n\\n7.1.1 Válvulas con retorno de muelle\\n\\nAlgunas válvulas están dotadas de un sistema de retorno con muelle para las posibles perturbaciones de la distribución de aire de instrumentos. Estas válvulas se cierran o abren cuando la presión de aire de instrumentos desaparece.\\n\\nEn el blanqueo, las siguientes válvulas están equipadas con un actuador de acción inversa (cierre por resorte):\\n153-PIC-0067, vapor de media presión a la torre de almacenamiento de pulpa sin blanquear\\n153-FIC-0015, bisulfito de sodio a la torre de etapa Da\\n153-HS-0017, ácido sulfúrico a la etapa Da\\n153-HS-0025, cierre 1 de mezclador de etapa Da\\n153-HS-0027, dióxido de cloro al mezclador de etapa Da\\n153-HS-0101, válvula 1 de pulpa a lavador DD de etapa Da\\n153-HS-0102, válvula 2 de pulpa a lavador DD de etapa Da\\n153-HS-0031, filtrado EP a calentador de ClO2\\...   \n",
       "\n",
       "   departamento                                  nombre_documento capitulo  \n",
       "0        Planta  Instrucciones de operación de procesos: Blanqueo        0  \n",
       "1        Planta  Instrucciones de operación de procesos: Blanqueo        1  \n",
       "2        Planta  Instrucciones de operación de procesos: Blanqueo        2  \n",
       "3        Planta  Instrucciones de operación de procesos: Blanqueo        3  \n",
       "4        Planta  Instrucciones de operación de procesos: Blanqueo        3  \n",
       "5        Planta  Instrucciones de operación de procesos: Blanqueo        3  \n",
       "6        Planta  Instrucciones de operación de procesos: Blanqueo        3  \n",
       "7        Planta  Instrucciones de operación de procesos: Blanqueo        3  \n",
       "8        Planta  Instrucciones de operación de procesos: Blanqueo        3  \n",
       "9        Planta  Instrucciones de operación de procesos: Blanqueo        3  \n",
       "10       Planta  Instrucciones de operación de procesos: Blanqueo        4  \n",
       "11       Planta  Instrucciones de operación de procesos: Blanqueo        4  \n",
       "12       Planta  Instrucciones de operación de procesos: Blanqueo        5  \n",
       "13       Planta  Instrucciones de operación de procesos: Blanqueo        5  \n",
       "14       Planta  Instrucciones de operación de procesos: Blanqueo        5  \n",
       "15       Planta  Instrucciones de operación de procesos: Blanqueo        6  \n",
       "16       Planta  Instrucciones de operación de procesos: Blanqueo        6  \n",
       "17       Planta  Instrucciones de operación de procesos: Blanqueo        7  "
      ]
     },
     "execution_count": 16,
     "metadata": {},
     "output_type": "execute_result"
    }
   ],
   "source": [
    "# Solución 3\n",
    "df_consigna_tres = chroma_db.db_search(collection_name=collection_name, where_document=buscar_documento)\n",
    "df_consigna_tres"
   ]
  },
  {
   "cell_type": "markdown",
   "metadata": {
    "nteract": {
     "transient": {
      "deleting": false
     }
    }
   },
   "source": [
    "## RAGChatBot\n",
    "\n",
    "Crearemos aquí una clase `RAGChatBot`, que herede de `VanilaChatBot`, para poder reutilizar la mayor parte del código.\n",
    "\n",
    "### Ejercicio\n",
    "Armar la sentencia para efectivamente hacer la llamada al modelo, pasando los documentos más cercanos a la pregunta."
   ]
  },
  {
   "cell_type": "code",
   "execution_count": 17,
   "metadata": {
    "collapsed": false,
    "gather": {
     "logged": 1726453678376
    },
    "jupyter": {
     "outputs_hidden": false,
     "source_hidden": false
    },
    "nteract": {
     "transient": {
      "deleting": false
     }
    }
   },
   "outputs": [],
   "source": [
    "class RAGChatBot(VanilaChatBot):\n",
    "    def __init__(self, prompt: Union[str, None] = None, llm_name: Union[str, None] = None):\n",
    "        super(RAGChatBot, self).__init__(prompt=prompt, llm_name=llm_name)\n",
    "        \n",
    "        self.chroma_db = ChromaDatabase()\n",
    "        self.db_search_done = False\n",
    "\n",
    "        if prompt:\n",
    "            self.history: List[str] = [{'role':'system', 'content': prompt}]\n",
    "        else:\n",
    "            self.history: List[str] = [{\n",
    "                'role':'system', \n",
    "                'content': \"Te harán preguntas técnicas y te proporcionarán información específica \"\\\n",
    "                    \"para que puedas responder basándote en esa información. \"\\\n",
    "                    \"En caso que te hagan una pregunta cuya respuesta no quede comprendida en la información provista, \"\\\n",
    "                    \"responder que no contas con información para responder la pregunta. \"\\\n",
    "                    \"Responder siempre en español. \"\\\n",
    "                    \"Al responder indicar de donde extrajiste la información para elaborar la respuesta. \"\\\n",
    "            }]\n",
    "\n",
    "    # Método donde se arma el mensaje con todos los documentos para consultarle al modelo   \n",
    "    def prepare_message(self, message: str) -> str:\n",
    "\n",
    "        # Primero buscamos en la base de datos los documentos más cercanos a la consulta del usuario\n",
    "        df_chroma_results = self.chroma_db.db_search(query=message)\n",
    "        self.db_search_done = True\n",
    "        \n",
    "        # Armamos la consulta a realizar al modelo\n",
    "        query = \"La pregunta del usuario es: '\" + message + \"'.\\n La información para responder la pregunta es\"\\\n",
    "        \" la que se indica a continuación: \\n\"\n",
    "        self.query_header = query\n",
    "\n",
    "        # Agregamos documentos al mensaje\n",
    "        for i in range(len(df_chroma_results)):\n",
    "            row = df_chroma_results.iloc[i]\n",
    "            query += \"Capítulo \"+row['capitulo']+\" del documento \" + row['nombre_documento']+\": \"\\\n",
    "            + row['contenido'] + \"\\n\"\n",
    "        return query\n",
    "\n",
    "    # Sobreescribimos la clase chat heredada de VanilaChatBot\n",
    "    def chat(self, message: str, print_conversation: bool = True):\n",
    "\n",
    "        # ================================================================\n",
    "        # Complete aquí su solución\n",
    "        # ----------------------------------------------------------------\n",
    "        \n",
    "        if self.db_search_done:\n",
    "            self.process_new_message(message, print_conversation)\n",
    "        else:\n",
    "            query = self.prepare_message(message)\n",
    "            self.process_new_message(query, print_conversation)\n",
    "\n",
    "        \n",
    "        # ================================================================\n",
    "    \n",
    "    # Sobrescribimos el método print_history para no mostrar todo el contenido de los documentos que\n",
    "    # le estamos pasando al modelo\n",
    "    def print_history(self):\n",
    "        def bold(text: str):\n",
    "            return '\\033[1m'+ text +'\\033[0m'\n",
    "\n",
    "        for message in self.history[1:]:\n",
    "            if message['role'] == 'user' and self.query_header in message['content']:\n",
    "                message_to_print = self.query_header\n",
    "                # Regular expression pattern\n",
    "                pattern = r\"Capítulo \\d+ del documento .+:\"\n",
    "                # Find all matches\n",
    "                matches = re.findall(pattern, message['content'])\n",
    "                for match in matches:\n",
    "                    message_to_print += match + \" ...\\n\"\n",
    "                \n",
    "                print(f\"{bold(message['role'].upper())}: {message_to_print}\\n\")\n",
    "\n",
    "            else:\n",
    "                print(f\"{bold(message['role'].upper())}: {message['content']}\\n\")\n",
    "        \n",
    "        print(f\"\\n {bold('Costo total de la conversación'.upper())}: {self.total_cost:.7f}\")"
   ]
  },
  {
   "cell_type": "code",
   "execution_count": 21,
   "metadata": {
    "collapsed": false,
    "gather": {
     "logged": 1726453681127
    },
    "jupyter": {
     "outputs_hidden": false,
     "source_hidden": false
    },
    "nteract": {
     "transient": {
      "deleting": false
     }
    }
   },
   "outputs": [
    {
     "data": {
      "application/vnd.livy.statement-meta+json": {
       "execution_finish_time": "2024-09-16T02:28:00.5033957Z",
       "execution_start_time": "2024-09-16T02:28:00.2202456Z",
       "livy_statement_state": "available",
       "normalized_state": "finished",
       "parent_msg_id": "34b16b95-d26b-4ed2-b750-97e7fca95ade",
       "queued_time": "2024-09-16T02:28:00.0669269Z",
       "session_id": "178",
       "session_start_time": null,
       "spark_jobs": {
        "jobs": [],
        "limit": 20,
        "numbers": {
         "FAILED": 0,
         "RUNNING": 0,
         "SUCCEEDED": 0,
         "UNKNOWN": 0
        },
        "rule": "ALL_DESC"
       },
       "spark_pool": "spAzureML",
       "state": "finished",
       "statement_id": 38,
       "statement_ids": [
        38
       ]
      },
      "text/plain": [
       "StatementMeta(spAzureML, 178, 38, Finished, Available, Finished)"
      ]
     },
     "metadata": {},
     "output_type": "display_data"
    },
    {
     "ename": "IndentationError",
     "evalue": "unexpected indent (2751300339.py, line 3)",
     "output_type": "error",
     "traceback": [
      "\u001b[0;36m  Cell \u001b[0;32mIn [45], line 3\u001b[0;36m\u001b[0m\n\u001b[0;31m    def chat(self, message: str, print_conversation: bool = True):\u001b[0m\n\u001b[0m    ^\u001b[0m\n\u001b[0;31mIndentationError\u001b[0m\u001b[0;31m:\u001b[0m unexpected indent\n"
     ]
    }
   ],
   "source": [
    "# Solución: Copiar esto arriba\n",
    "\n",
    "    def chat(self, message: str, print_conversation: bool = True):\n",
    "\n",
    "        if self.db_search_done:\n",
    "            self.process_new_message(message, print_conversation)\n",
    "        else:\n",
    "            query = self.prepare_message(message)\n",
    "            self.process_new_message(query, print_conversation)"
   ]
  },
  {
   "cell_type": "code",
   "execution_count": 18,
   "metadata": {
    "collapsed": false,
    "gather": {
     "logged": 1726453700905
    },
    "jupyter": {
     "outputs_hidden": false,
     "source_hidden": false
    },
    "nteract": {
     "transient": {
      "deleting": false
     }
    }
   },
   "outputs": [
    {
     "name": "stdout",
     "output_type": "stream",
     "text": [
      "\u001b[1mUSER\u001b[0m: La pregunta del usuario es: 'Que requisitos documentales deben cumplir los vehículos que se utilizan?'.\n",
      " La información para responder la pregunta es la que se indica a continuación: \n",
      "Capítulo 3 del documento P_LOGT_01: TRANSPORTE DE MADERA: ...\n",
      "Capítulo 1 del documento P_LOGT_01: TRANSPORTE DE MADERA: ...\n",
      "Capítulo 5 del documento P_LOGT_01: TRANSPORTE DE MADERA: ...\n",
      "\n",
      "\n",
      "\u001b[1mASSISTANT\u001b[0m: Según la información proporcionada en el Capítulo 3 del documento P_LOGT_01: TRANSPORTE DE MADERA, los vehículos que se utilizan deben cumplir con una serie de requisitos documentales. Estos requisitos incluyen la presentación de documentación por parte de la empresa transportista, el personal y los vehículos. Algunos de los documentos requeridos para los vehículos son:\n",
      "\n",
      "- Inscripción en el registro de la Dirección Nacional de Transporte (MTOP)\n",
      "- Inspección Técnica Vehicular (CAT)\n",
      "- Permiso Nacional de Circulación\n",
      "- Seguro de Responsabilidad Civil\n",
      "- Libreta de propiedad\n",
      "- Otras habilitaciones específicas del vehículo o carga\n",
      "\n",
      "Además, se menciona que los conductores deben contar con una serie de documentos, como la cédula de identidad vigente, control de salud vigente, libreta de conducir de acuerdo al tipo de vehículo y carga a transportar, entre otros.\n",
      "\n",
      "La información fue extraída del Capítulo 3 del documento P_LOGT_01: TRANSPORTE DE MADERA.\n",
      "\n",
      "\n",
      " \u001b[1mCOSTO TOTAL DE LA CONVERSACIÓN\u001b[0m: 0.0026400\n"
     ]
    }
   ],
   "source": [
    "# Creo una instancia de la clase\n",
    "rag_chatbot = RAGChatBot()\n",
    "\n",
    "# Consulta del usuario\n",
    "consulta = \"Que requisitos documentales deben cumplir los vehículos que se utilizan?\"\n",
    "\n",
    "# Se realiza la consulta del usuario al modelo\n",
    "rag_chatbot.chat(message=consulta)"
   ]
  },
  {
   "cell_type": "code",
   "execution_count": 19,
   "metadata": {
    "collapsed": false,
    "gather": {
     "logged": 1726453718399
    },
    "jupyter": {
     "outputs_hidden": false,
     "source_hidden": false
    },
    "nteract": {
     "transient": {
      "deleting": false
     }
    }
   },
   "outputs": [
    {
     "name": "stdout",
     "output_type": "stream",
     "text": [
      "\u001b[1mUSER\u001b[0m: La pregunta del usuario es: 'Que requisitos documentales deben cumplir los vehículos que se utilizan?'.\n",
      " La información para responder la pregunta es la que se indica a continuación: \n",
      "Capítulo 3 del documento P_LOGT_01: TRANSPORTE DE MADERA: ...\n",
      "Capítulo 1 del documento P_LOGT_01: TRANSPORTE DE MADERA: ...\n",
      "Capítulo 5 del documento P_LOGT_01: TRANSPORTE DE MADERA: ...\n",
      "\n",
      "\n",
      "\u001b[1mASSISTANT\u001b[0m: Según la información proporcionada en el Capítulo 3 del documento P_LOGT_01: TRANSPORTE DE MADERA, los vehículos que se utilizan deben cumplir con una serie de requisitos documentales. Estos requisitos incluyen la presentación de documentación por parte de la empresa transportista, el personal y los vehículos. Algunos de los documentos requeridos para los vehículos son:\n",
      "\n",
      "- Inscripción en el registro de la Dirección Nacional de Transporte (MTOP)\n",
      "- Inspección Técnica Vehicular (CAT)\n",
      "- Permiso Nacional de Circulación\n",
      "- Seguro de Responsabilidad Civil\n",
      "- Libreta de propiedad\n",
      "- Otras habilitaciones específicas del vehículo o carga\n",
      "\n",
      "Además, se menciona que los conductores deben contar con una serie de documentos, como la cédula de identidad vigente, control de salud vigente, libreta de conducir de acuerdo al tipo de vehículo y carga a transportar, entre otros.\n",
      "\n",
      "La información fue extraída del Capítulo 3 del documento P_LOGT_01: TRANSPORTE DE MADERA.\n",
      "\n",
      "\u001b[1mUSER\u001b[0m: Dice algo más el capítulo 3 acerca de los vehículos?\n",
      "\n",
      "\u001b[1mASSISTANT\u001b[0m: En el Capítulo 3 del documento P_LOGT_01: TRANSPORTE DE MADERA, se detallan más requisitos que deben cumplir los vehículos utilizados en el transporte de madera. Algunos de estos requisitos son:\n",
      "\n",
      "- Marcas admitidas: Scania, Volvo, Mercedes Benz, MAN o IVECO.\n",
      "- Potencia mínima: 410 HP para 48TON y 430 HP para camiones bitren.\n",
      "- Caja de transmisión automática o automatizada.\n",
      "- Sistema de frenos ABS y EBS.\n",
      "- Sistema de suspensión neumática.\n",
      "- Sistema de pesaje por ejes.\n",
      "- Sistema de monitoreo de flota conectado al centro de recepción de información de MdP.\n",
      "- Contar con convenio de revisión (\"service\") con el fabricante, importador o representante de la marca del vehículo durante la vigencia de la garantía de fábrica.\n",
      "- Radio VHF para comunicación con otras áreas operativas.\n",
      "- GPS para monitoreo y seguimiento de las unidades.\n",
      "- Sistema GUARDIAN en cabina.\n",
      "\n",
      "Estos son algunos de los requisitos adicionales que deben cumplir los vehículos utilizados en el transporte de madera, según el Capítulo 3 del documento mencionado.\n",
      "\n",
      "\n",
      " \u001b[1mCOSTO TOTAL DE LA CONVERSACIÓN\u001b[0m: 0.0054650\n"
     ]
    }
   ],
   "source": [
    "# Continuo la conversación con el modelo\n",
    "consulta = \"Dice algo más el capítulo 3 acerca de los vehículos?\"\n",
    "rag_chatbot.chat(message=consulta)"
   ]
  },
  {
   "cell_type": "markdown",
   "metadata": {
    "nteract": {
     "transient": {
      "deleting": false
     }
    }
   },
   "source": [
    "# 4) Control de flujo\n",
    "\n",
    "Vamos a crear una clase para llamar al modelo de Moderación. Este modelo sirve para controlar que los mensajes que recibe el chat tengan el tono y caracter adecuado para la situación.\n",
    "\n",
    "Luego vamos a crear otra clase que sea la que dirija el flujo de la conversación. Esta clase va a controlar los mensajes que recibe el chat y si pasan la moderación, se continúa el flujo normal de la conversación. Si no pasa, se ignora la pregunta y se comunica al usuario que su mensaje no pasó las reglas de moderación."
   ]
  },
  {
   "cell_type": "code",
   "execution_count": 20,
   "metadata": {
    "collapsed": false,
    "gather": {
     "logged": 1725460975527
    },
    "jupyter": {
     "outputs_hidden": false,
     "source_hidden": false
    },
    "nteract": {
     "transient": {
      "deleting": false
     }
    }
   },
   "outputs": [],
   "source": [
    "class ModerationModel:\n",
    "    def __init__(self, client):\n",
    "        self.client = client\n",
    "\n",
    "    def check_moderation(self, message: str) -> bool:\n",
    "        response = self.client.moderations.create(input=message)\n",
    "        result = response.results[0]\n",
    "\n",
    "        # El modelo de moderación retorna `True` si el mensaje potencialmente contiene contenido no apto\n",
    "        # Para retornar el valor, invertimos el resultado de la variable `.flagged` por comodidad\n",
    "        return not result.flagged"
   ]
  },
  {
   "cell_type": "markdown",
   "metadata": {
    "nteract": {
     "transient": {
      "deleting": false
     }
    }
   },
   "source": [
    "### Ejercicio\n",
    "La clase `FlowChatBot` sobreescribe el método `chat` definido en clases de las que hereda. Hay que escribir la nueva implementación del método `chat` para que tenga en cuenta si el mensaje del usuario aprobó las reglas de moderación o no."
   ]
  },
  {
   "cell_type": "code",
   "execution_count": 21,
   "metadata": {
    "collapsed": false,
    "gather": {
     "logged": 1725461339000
    },
    "jupyter": {
     "outputs_hidden": false,
     "source_hidden": false
    },
    "nteract": {
     "transient": {
      "deleting": false
     }
    }
   },
   "outputs": [],
   "source": [
    "class FlowChatBot(RAGChatBot):\n",
    "    def __init__(self, prompt: Union[str, None] = None, llm_name: Union[str, None] = None):\n",
    "        super(FlowChatBot, self).__init__(prompt=prompt, llm_name=llm_name)\n",
    "        self.moderation_model = ModerationModel(self.openai_client)\n",
    "    \n",
    "    # Sobreescribimos la clase chat heredada de RAGChatBot, que a su vez hereda de VanilaChatBot\n",
    "    def chat(self, message: str, print_conversation: bool = True):\n",
    "\n",
    "        moderation_succeeded = self.moderation_model.check_moderation(message)\n",
    "        \n",
    "        # ================================================================\n",
    "        # Complete aquí su solución\n",
    "        # ----------------------------------------------------------------\n",
    "        \n",
    "        moderation_succeeded = self.moderation_model.check_moderation(message)\n",
    "        if moderation_succeeded:\n",
    "            if self.db_search_done:\n",
    "                self.process_new_message(message, print_conversation)\n",
    "            else:\n",
    "                query = self.prepare_message(message)\n",
    "                self.process_new_message(query, print_conversation)\n",
    "        else:\n",
    "            print(\"Su mensaje no cumple las reglas de moderación. Chat terminado\")\n",
    "            \n",
    "        # ================================================================\n",
    "        \n"
   ]
  },
  {
   "cell_type": "code",
   "execution_count": 22,
   "metadata": {
    "collapsed": false,
    "jupyter": {
     "outputs_hidden": false,
     "source_hidden": false
    },
    "nteract": {
     "transient": {
      "deleting": false
     }
    }
   },
   "outputs": [
    {
     "ename": "IndentationError",
     "evalue": "unexpected indent (3141111371.py, line 3)",
     "output_type": "error",
     "traceback": [
      "\u001b[0;36m  Cell \u001b[0;32mIn[22], line 3\u001b[0;36m\u001b[0m\n\u001b[0;31m    def chat(self, message: str, print_conversation: bool = True):\u001b[0m\n\u001b[0m    ^\u001b[0m\n\u001b[0;31mIndentationError\u001b[0m\u001b[0;31m:\u001b[0m unexpected indent\n"
     ]
    }
   ],
   "source": [
    "# Solución\n",
    "    \n",
    "    def chat(self, message: str, print_conversation: bool = True):\n",
    "\n",
    "        moderation_succeeded = self.moderation_model.check_moderation(message)\n",
    "        if moderation_succeeded:\n",
    "            if self.db_search_done:\n",
    "                self.process_new_message(message, print_conversation)\n",
    "            else:\n",
    "                query = self.prepare_message(message)\n",
    "                self.process_new_message(query, print_conversation)\n",
    "        else:\n",
    "            print(\"Su mensaje no cumple las reglas de moderación. Chat terminado\")"
   ]
  },
  {
   "cell_type": "code",
   "execution_count": 23,
   "metadata": {
    "collapsed": false,
    "gather": {
     "logged": 1725461342861
    },
    "jupyter": {
     "outputs_hidden": false,
     "source_hidden": false
    },
    "nteract": {
     "transient": {
      "deleting": false
     }
    }
   },
   "outputs": [
    {
     "name": "stdout",
     "output_type": "stream",
     "text": [
      "Su mensaje no cumple las reglas de moderación. Chat terminado\n"
     ]
    }
   ],
   "source": [
    "flow_chatbot = FlowChatBot()\n",
    "flow_chatbot.chat(\"Los europeos son mucho mejores que los latinoamericanos?\")"
   ]
  },
  {
   "cell_type": "code",
   "execution_count": 24,
   "metadata": {
    "collapsed": false,
    "gather": {
     "logged": 1725461407851
    },
    "jupyter": {
     "outputs_hidden": false,
     "source_hidden": false
    },
    "nteract": {
     "transient": {
      "deleting": false
     }
    }
   },
   "outputs": [
    {
     "name": "stdout",
     "output_type": "stream",
     "text": [
      "\u001b[1mUSER\u001b[0m: La pregunta del usuario es: 'Que requisitos documentales deben cumplir los vehículos que se utilizan?'.\n",
      " La información para responder la pregunta es la que se indica a continuación: \n",
      "Capítulo 3 del documento P_LOGT_01: TRANSPORTE DE MADERA: ...\n",
      "Capítulo 1 del documento P_LOGT_01: TRANSPORTE DE MADERA: ...\n",
      "Capítulo 5 del documento P_LOGT_01: TRANSPORTE DE MADERA: ...\n",
      "\n",
      "\n",
      "\u001b[1mASSISTANT\u001b[0m: Según la información proporcionada en el documento P_LOGT_01: TRANSPORTE DE MADERA, los vehículos que se utilizan deben cumplir con los siguientes requisitos documentales:\n",
      "\n",
      "Documentos para el Transportista (Empresa):\n",
      "- Certificado de empresa profesional de carga\n",
      "- Certificados, recibos y consulta de actividad por empresa al día en BPS\n",
      "- Certificado de DGI vigente\n",
      "- Seguro y certificados al día (BSE o Seguro alternativo, para accidentes laborales y contra Terceros)\n",
      "- Planilla de MTSS\n",
      "\n",
      "Documentos para el Transportista (Personal):\n",
      "- Alta de cada funcionario emitida por BPS\n",
      "- Cédula de identidad vigente\n",
      "- Control de salud vigente\n",
      "- Libreta de conducir de acuerdo al tipo de vehículo y carga a transportar\n",
      "- Baja o modificación de actividad de BPS en caso de producirse las mismas\n",
      "- Alta y/o baja de cada funcionario al BSE\n",
      "\n",
      "Documentos para el Transportista (Vehículo):\n",
      "- Inscripción en el registro de la Dirección Nacional de Transporte (MTOP)\n",
      "- Inspección Técnica Vehicular (CAT)\n",
      "- Permiso Nacional de Circulación\n",
      "- Seguro de Responsabilidad Civil\n",
      "- Libreta de propiedad\n",
      "- Otras habilitaciones específicas del vehículo o carga\n",
      "\n",
      "Además, todos los conductores deben contar con:\n",
      "- Examen Psicofísico vigente emitido por entidad autorizada por MdP\n",
      "- Inducción teórica y práctica en seguridad por parte del contratista\n",
      "- Curso aprobado de Manejo de Pesados BTW CEPA\n",
      "\n",
      "La información fue extraída del documento P_LOGT_01: TRANSPORTE DE MADERA, Capítulo 3.1 Requerimientos documentales.\n",
      "\n",
      "\n",
      " \u001b[1mCOSTO TOTAL DE LA CONVERSACIÓN\u001b[0m: 0.0028650\n"
     ]
    }
   ],
   "source": [
    "# Consulta del usuario\n",
    "consulta = \"Que requisitos documentales deben cumplir los vehículos que se utilizan?\"\n",
    "\n",
    "# Se realiza la consulta del usuario al modelo\n",
    "flow_chatbot.chat(message=consulta)"
   ]
  },
  {
   "cell_type": "code",
   "execution_count": 25,
   "metadata": {
    "collapsed": false,
    "gather": {
     "logged": 1725461428437
    },
    "jupyter": {
     "outputs_hidden": false,
     "source_hidden": false
    },
    "nteract": {
     "transient": {
      "deleting": false
     }
    }
   },
   "outputs": [
    {
     "name": "stdout",
     "output_type": "stream",
     "text": [
      "\u001b[1mUSER\u001b[0m: La pregunta del usuario es: 'Que requisitos documentales deben cumplir los vehículos que se utilizan?'.\n",
      " La información para responder la pregunta es la que se indica a continuación: \n",
      "Capítulo 3 del documento P_LOGT_01: TRANSPORTE DE MADERA: ...\n",
      "Capítulo 1 del documento P_LOGT_01: TRANSPORTE DE MADERA: ...\n",
      "Capítulo 5 del documento P_LOGT_01: TRANSPORTE DE MADERA: ...\n",
      "\n",
      "\n",
      "\u001b[1mASSISTANT\u001b[0m: Según la información proporcionada en el documento P_LOGT_01: TRANSPORTE DE MADERA, los vehículos que se utilizan deben cumplir con los siguientes requisitos documentales:\n",
      "\n",
      "Documentos para el Transportista (Empresa):\n",
      "- Certificado de empresa profesional de carga\n",
      "- Certificados, recibos y consulta de actividad por empresa al día en BPS\n",
      "- Certificado de DGI vigente\n",
      "- Seguro y certificados al día (BSE o Seguro alternativo, para accidentes laborales y contra Terceros)\n",
      "- Planilla de MTSS\n",
      "\n",
      "Documentos para el Transportista (Personal):\n",
      "- Alta de cada funcionario emitida por BPS\n",
      "- Cédula de identidad vigente\n",
      "- Control de salud vigente\n",
      "- Libreta de conducir de acuerdo al tipo de vehículo y carga a transportar\n",
      "- Baja o modificación de actividad de BPS en caso de producirse las mismas\n",
      "- Alta y/o baja de cada funcionario al BSE\n",
      "\n",
      "Documentos para el Transportista (Vehículo):\n",
      "- Inscripción en el registro de la Dirección Nacional de Transporte (MTOP)\n",
      "- Inspección Técnica Vehicular (CAT)\n",
      "- Permiso Nacional de Circulación\n",
      "- Seguro de Responsabilidad Civil\n",
      "- Libreta de propiedad\n",
      "- Otras habilitaciones específicas del vehículo o carga\n",
      "\n",
      "Además, todos los conductores deben contar con:\n",
      "- Examen Psicofísico vigente emitido por entidad autorizada por MdP\n",
      "- Inducción teórica y práctica en seguridad por parte del contratista\n",
      "- Curso aprobado de Manejo de Pesados BTW CEPA\n",
      "\n",
      "La información fue extraída del documento P_LOGT_01: TRANSPORTE DE MADERA, Capítulo 3.1 Requerimientos documentales.\n",
      "\n",
      "\u001b[1mUSER\u001b[0m: Hay alguna restricción acerca de qué tipos de vehículos se pueden utilizar?\n",
      "\n",
      "\u001b[1mASSISTANT\u001b[0m: Según la información proporcionada en el documento P_LOGT_01: TRANSPORTE DE MADERA, Capítulo 3.3 Requerimientos contractuales, se detallan los requisitos que deben cumplir los vehículos utilizados en el transporte de madera. Algunas de las restricciones y requisitos para los vehículos son:\n",
      "\n",
      "- Marcas admitidas: Scania, Volvo, Mercedes Benz, MAN o IVECO.\n",
      "- Potencia mínima: 410 HP para 48TON y 430 HP para camiones bitren.\n",
      "- Caja de transmisión automática o automatizada.\n",
      "- Sistema de frenos ABS y EBS.\n",
      "- Sistema de suspensión neumática.\n",
      "- Sistema de pesaje por ejes.\n",
      "- Sistema de monitoreo de flota conectado al centro de recepción de información de MdP.\n",
      "- Contar con convenio de revisión (\"service\") con el fabricante, importador o representante de la marca del vehículo durante la vigencia de la garantía de fábrica.\n",
      "- Radio VHF para comunicación con otras áreas operativas.\n",
      "- GPS para monitoreo y seguimiento de las unidades.\n",
      "- Sistema GUARDIAN en cabina.\n",
      "\n",
      "Estos son algunos de los requisitos y restricciones que deben cumplir los vehículos utilizados en el transporte de madera según el documento mencionado. La información fue extraída del Capítulo 3.3 Requerimientos contractuales del documento P_LOGT_01: TRANSPORTE DE MADERA.\n",
      "\n",
      "\n",
      " \u001b[1mCOSTO TOTAL DE LA CONVERSACIÓN\u001b[0m: 0.0058425\n"
     ]
    }
   ],
   "source": [
    "# Continuo la conversación con el modelo\n",
    "consulta = \"Hay alguna restricción acerca de qué tipos de vehículos se pueden utilizar?\"\n",
    "flow_chatbot.chat(message=consulta)"
   ]
  },
  {
   "cell_type": "markdown",
   "metadata": {
    "nteract": {
     "transient": {
      "deleting": false
     }
    }
   },
   "source": [
    "# 5) Nueva funcionalidad: resumen de documentos\n",
    "\n",
    "El flujo de conversación puede ir adquiriendo mayor complejidad a medida que se van agregando nuevas funcionalidades al `ChatBot`. \n",
    "\n",
    "En esta sección vamos a ver otra tarea que se le puede pedir al ChatBot, la tarea de resumir documentos. Para ello vamos a crear una nueva clase `SummaryChatBot`, que hereda de `RAGChatBot`. \n",
    "\n",
    "Vamos a suponer que el mensaje que le pasa el usuario cuando quiere resumir un texto es el nombre del documento que quiere resumir. Luego el usuario puede continuar interactuando con el modelo preguntandole información acerca de ese mismo documento. "
   ]
  },
  {
   "cell_type": "code",
   "execution_count": 26,
   "metadata": {
    "collapsed": false,
    "gather": {
     "logged": 1725461693562
    },
    "jupyter": {
     "outputs_hidden": false,
     "source_hidden": false
    },
    "nteract": {
     "transient": {
      "deleting": false
     }
    }
   },
   "outputs": [],
   "source": [
    "class SummaryChatBot(RAGChatBot):\n",
    "    def __init__(self, prompt: Union[str, None] = None, llm_name: Union[str, None] = None):\n",
    "        \n",
    "        if not prompt:\n",
    "            prompt = \"\"\"\n",
    "                El usuario te brindará información técnica que quiere resumir. \n",
    "                Elaborar un resumen en base a esa información, que no supere las 1000 palabras. \n",
    "                Luego te hará preguntas en base a esa información. \n",
    "                En caso que te hagan una pregunta cuya respuesta no quede comprendida en la información provista, \n",
    "                responder que no contas con información para responder la pregunta. \n",
    "                Responder siempre en español. \n",
    "                Al responder indicar de donde extrajiste la información para elaborar la respuesta. \n",
    "            \"\"\"   \n",
    "        super(SummaryChatBot, self).__init__(prompt=prompt, llm_name=llm_name)\n",
    "\n",
    "    # Método donde se arma el mensaje con todos los documentos para consultarle al modelo\n",
    "    # SUPONEMOS QUE EL MENSAJE INDICADO POR EL USUARIO ES EL NOMBRE DEL DOCUMENTO QUE QUIERE RESUMIR   \n",
    "    def prepare_message(self, message: str) -> str:\n",
    "        \n",
    "        condition = {\n",
    "            \"nombre_documento\": {\n",
    "                \"$eq\": message\n",
    "            }\n",
    "        }\n",
    "\n",
    "        df_chroma_results = self.chroma_db.db_search(condition=condition)\n",
    "        df_chroma_results_sorted = df_chroma_results.sort_values(by='id', key=lambda x: x.astype(int))\n",
    "        self.db_search_done = True\n",
    "\n",
    "        doc_name = df_chroma_results_sorted.iloc[0]['nombre_documento']\n",
    "        query = \"La instrucción del usuario es: '\" + message + \"'.\\n La información que se debe resumir\"\\\n",
    "        \" se presenta a continuación, y proviene del documento \" + doc_name + \". \\n\"\n",
    "        self.query_header = query\n",
    "\n",
    "        # Agregamos documentos al mensaje\n",
    "        for i in range(len(df_chroma_results_sorted)):\n",
    "            row = df_chroma_results_sorted.iloc[i]\n",
    "            query += \"Capítulo \"+row['capitulo']+\": \"\\\n",
    "            + row['contenido'] + \"\\n\"\n",
    "        return query\n",
    "    \n",
    "    # Sobrescribimos el método print_history para no mostrar todo el contenido de los documentos que\n",
    "    # le estamos pasando al modelo\n",
    "    def print_history(self):\n",
    "        def bold(text: str):\n",
    "            return '\\033[1m'+ text +'\\033[0m'\n",
    "\n",
    "        for message in self.history[1:]:\n",
    "            if message['role'] == 'user' and self.query_header in message['content']:\n",
    "                message_to_print = self.query_header\n",
    "                # Regular expression pattern\n",
    "                pattern = r\"Capítulo \\d+:\"\n",
    "                # Find all matches\n",
    "                matches = re.findall(pattern, message['content'])\n",
    "                for match in matches:\n",
    "                    message_to_print += match + \" ...\\n\"\n",
    "                \n",
    "                print(f\"{bold(message['role'].upper())}: {message_to_print}\\n\")\n",
    "\n",
    "            else:\n",
    "                print(f\"{bold(message['role'].upper())}: {message['content']}\\n\")\n",
    "        \n",
    "        print(f\"\\n {bold('Costo total de la conversación'.upper())}: {self.total_cost:.7f}\")"
   ]
  },
  {
   "cell_type": "code",
   "execution_count": 27,
   "metadata": {
    "collapsed": false,
    "gather": {
     "logged": 1725461703612
    },
    "jupyter": {
     "outputs_hidden": false,
     "source_hidden": false
    },
    "nteract": {
     "transient": {
      "deleting": false
     }
    }
   },
   "outputs": [
    {
     "name": "stdout",
     "output_type": "stream",
     "text": [
      "\u001b[1mUSER\u001b[0m: La instrucción del usuario es: 'P_LOGT_01: TRANSPORTE DE MADERA'.\n",
      " La información que se debe resumir se presenta a continuación, y proviene del documento P_LOGT_01: TRANSPORTE DE MADERA. \n",
      "Capítulo 0: ...\n",
      "Capítulo 1: ...\n",
      "Capítulo 2: ...\n",
      "Capítulo 3: ...\n",
      "Capítulo 4: ...\n",
      "Capítulo 5: ...\n",
      "Capítulo 6: ...\n",
      "Capítulo 7: ...\n",
      "Capítulo 8: ...\n",
      "Capítulo 9: ...\n",
      "Capítulo 10: ...\n",
      "Capítulo 11: ...\n",
      "\n",
      "\n",
      "\u001b[1mASSISTANT\u001b[0m: El documento \"P_LOGT_01: TRANSPORTE DE MADERA\" establece los lineamientos y procedimientos para garantizar un transporte eficiente y seguro de madera rolliza, respetando aspectos sociales y ambientales. El objetivo es planificar, habilitar conductores y vehículos, cargar la madera, controlar las operaciones, prevenir riesgos laborales e impactos ambientales, y establecer un régimen de sanciones en caso de incumplimientos. Se detallan los requisitos documentales para las empresas transportistas, la planificación del transporte, la habilitación del personal y vehículos, la carga y acondicionamiento de la misma, el seguimiento y control de las operaciones, los criterios de detención inmediata, entre otros aspectos. Además, se establecen medidas preventivas para reducir riesgos laborales y impactos ambientales, así como responsabilidades y registros a mantener.\n",
      "\n",
      "Fuente: Información extraída del documento \"P_LOGT_01: TRANSPORTE DE MADERA\".\n",
      "\n",
      "\n",
      " \u001b[1mCOSTO TOTAL DE LA CONVERSACIÓN\u001b[0m: 0.0047060\n"
     ]
    }
   ],
   "source": [
    "# Creo una instancia de la clase\n",
    "summary_chatbot = SummaryChatBot()\n",
    "\n",
    "# Consulta del usuario\n",
    "consulta = \"P_LOGT_01: TRANSPORTE DE MADERA\"\n",
    "\n",
    "# Se realiza la consulta del usuario al modelo\n",
    "summary_chatbot.chat(message=consulta)"
   ]
  },
  {
   "cell_type": "code",
   "execution_count": 28,
   "metadata": {
    "collapsed": false,
    "gather": {
     "logged": 1725397237078
    },
    "jupyter": {
     "outputs_hidden": false,
     "source_hidden": false
    },
    "nteract": {
     "transient": {
      "deleting": false
     }
    }
   },
   "outputs": [
    {
     "name": "stdout",
     "output_type": "stream",
     "text": [
      "\u001b[1mUSER\u001b[0m: La instrucción del usuario es: 'P_LOGT_01: TRANSPORTE DE MADERA'.\n",
      " La información que se debe resumir se presenta a continuación, y proviene del documento P_LOGT_01: TRANSPORTE DE MADERA. \n",
      "Capítulo 0: ...\n",
      "Capítulo 1: ...\n",
      "Capítulo 2: ...\n",
      "Capítulo 3: ...\n",
      "Capítulo 4: ...\n",
      "Capítulo 5: ...\n",
      "Capítulo 6: ...\n",
      "Capítulo 7: ...\n",
      "Capítulo 8: ...\n",
      "Capítulo 9: ...\n",
      "Capítulo 10: ...\n",
      "Capítulo 11: ...\n",
      "\n",
      "\n",
      "\u001b[1mASSISTANT\u001b[0m: El documento \"P_LOGT_01: TRANSPORTE DE MADERA\" establece los lineamientos y procedimientos para garantizar un transporte eficiente y seguro de madera rolliza, respetando aspectos sociales y ambientales. El objetivo es planificar, habilitar conductores y vehículos, cargar la madera, controlar las operaciones, prevenir riesgos laborales e impactos ambientales, y establecer un régimen de sanciones en caso de incumplimientos. Se detallan los requisitos documentales para las empresas transportistas, la planificación del transporte, la habilitación del personal y vehículos, la carga y acondicionamiento de la misma, el seguimiento y control de las operaciones, los criterios de detención inmediata, entre otros aspectos. Además, se establecen medidas preventivas para reducir riesgos laborales y impactos ambientales, así como responsabilidades y registros a mantener.\n",
      "\n",
      "Fuente: Información extraída del documento \"P_LOGT_01: TRANSPORTE DE MADERA\".\n",
      "\n",
      "\u001b[1mUSER\u001b[0m: Qué dice el documento que debe hacer el transportista en caso que se presente una falla en el vehículo?\n",
      "\n",
      "\u001b[1mASSISTANT\u001b[0m: Según el documento \"P_LOGT_01: TRANSPORTE DE MADERA\", en caso de que se presente una falla en el vehículo durante el transporte de madera, el transportista debe realizar una acción mínima inmediata dependiendo del tipo de falla observada. Algunas de las acciones mínimas inmediatas que se deben tomar ante diferentes observaciones de fallas en el vehículo son las siguientes:\n",
      "\n",
      "- Detención inmediata si se detectan neumáticos de dirección reconstruidos.\n",
      "- Realizar cambio de neumáticos comprometidos antes del próximo viaje si se observan dos o más neumáticos que condicionen la seguridad.\n",
      "- Prohibido circular en horario nocturno si las luces delanteras del tractor y/o traseras del acoplado no funcionan.\n",
      "- Detención inmediata si las luces de freno no funcionan.\n",
      "- Detención inmediata si se detectan fisuras y/o deformaciones en estructuras que comprometan la estabilidad de la carga.\n",
      "- Detención inmediata si se detectan fallas o roturas en al menos un freno.\n",
      "- Detención inmediata si se observa un parabrisas roto que comprometa la visibilidad del conductor.\n",
      "- Reparar para poder continuar con el viaje si faltan espejos retrovisores.\n",
      "- Detención inmediata y corrección si la carga está mal estibada o si la sujeción de la carga es deficiente.\n",
      "- Detención inmediata hasta reparar si los cinturones de seguridad tienen desperfectos que impiden su uso.\n",
      "\n",
      "Estas acciones inmediatas son fundamentales para garantizar la seguridad durante el transporte de madera y prevenir posibles accidentes derivados de fallas en el vehículo.\n",
      "\n",
      "Fuente: Información extraída del documento \"P_LOGT_01: TRANSPORTE DE MADERA\".\n",
      "\n",
      "\n",
      " \u001b[1mCOSTO TOTAL DE LA CONVERSACIÓN\u001b[0m: 0.0098215\n"
     ]
    }
   ],
   "source": [
    "# Continuo la conversación con el modelo\n",
    "consulta = \"Qué dice el documento que debe hacer el transportista en caso que se presente una falla en el vehículo?\"\n",
    "summary_chatbot.chat(message=consulta)"
   ]
  }
 ],
 "metadata": {
  "kernel_info": {
   "name": "synapse_pyspark"
  },
  "kernelspec": {
   "display_name": "Python 3 (ipykernel)",
   "language": "python",
   "name": "python3"
  },
  "language_info": {
   "codemirror_mode": {
    "name": "ipython",
    "version": 3
   },
   "file_extension": ".py",
   "mimetype": "text/x-python",
   "name": "python",
   "nbconvert_exporter": "python",
   "pygments_lexer": "ipython3",
   "version": "3.8.10"
  },
  "microsoft": {
   "host": {
    "AzureML": {
     "notebookHasBeenCompleted": true
    }
   },
   "ms_spell_check": {
    "ms_spell_check_language": "en"
   }
  },
  "nteract": {
   "version": "nteract-front-end@1.0.0"
  }
 },
 "nbformat": 4,
 "nbformat_minor": 4
}
